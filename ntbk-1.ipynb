{
 "cells": [
  {
   "cell_type": "markdown",
   "metadata": {},
   "source": [
    "# Scenario 1"
   ]
  },
  {
   "cell_type": "markdown",
   "metadata": {},
   "source": [
    "Import libraries"
   ]
  },
  {
   "cell_type": "code",
   "execution_count": 1,
   "metadata": {
    "ExecuteTime": {
     "end_time": "2020-06-02T14:08:34.643841Z",
     "start_time": "2020-06-02T14:08:33.278473Z"
    }
   },
   "outputs": [],
   "source": [
    "import pandas as pd"
   ]
  },
  {
   "cell_type": "markdown",
   "metadata": {},
   "source": [
    "Read in SIS data to dataframe"
   ]
  },
  {
   "cell_type": "code",
   "execution_count": null,
   "metadata": {
    "ExecuteTime": {
     "end_time": "2020-06-02T14:08:35.942783Z",
     "start_time": "2020-06-02T14:08:34.648397Z"
    }
   },
   "outputs": [],
   "source": [
    "df_sis = pd.read_excel('data.xlsx', sheet_name=1)"
   ]
  },
  {
   "cell_type": "code",
   "execution_count": 3,
   "metadata": {
    "ExecuteTime": {
     "end_time": "2020-06-02T14:08:35.991004Z",
     "start_time": "2020-06-02T14:08:35.946185Z"
    }
   },
   "outputs": [
    {
     "data": {
      "text/html": [
       "<div>\n",
       "<style scoped>\n",
       "    .dataframe tbody tr th:only-of-type {\n",
       "        vertical-align: middle;\n",
       "    }\n",
       "\n",
       "    .dataframe tbody tr th {\n",
       "        vertical-align: top;\n",
       "    }\n",
       "\n",
       "    .dataframe thead th {\n",
       "        text-align: right;\n",
       "    }\n",
       "</style>\n",
       "<table border=\"1\" class=\"dataframe\">\n",
       "  <thead>\n",
       "    <tr style=\"text-align: right;\">\n",
       "      <th></th>\n",
       "      <th>School</th>\n",
       "      <th>StudentID</th>\n",
       "      <th>StateID</th>\n",
       "      <th>FirstName</th>\n",
       "      <th>LastName</th>\n",
       "      <th>Gender</th>\n",
       "      <th>Grade</th>\n",
       "      <th>DOB</th>\n",
       "      <th>Ethnicity</th>\n",
       "      <th>EntryDate</th>\n",
       "      <th>ExitDate</th>\n",
       "    </tr>\n",
       "  </thead>\n",
       "  <tbody>\n",
       "    <tr>\n",
       "      <th>0</th>\n",
       "      <td>OUJH</td>\n",
       "      <td>15524</td>\n",
       "      <td>6137711.0</td>\n",
       "      <td>Milad</td>\n",
       "      <td>Abdulaziz</td>\n",
       "      <td>M</td>\n",
       "      <td>9.0</td>\n",
       "      <td>2000-09-15</td>\n",
       "      <td>B</td>\n",
       "      <td>2015-08-01</td>\n",
       "      <td>2016-05-31</td>\n",
       "    </tr>\n",
       "    <tr>\n",
       "      <th>1</th>\n",
       "      <td>OUJH</td>\n",
       "      <td>92924</td>\n",
       "      <td>7767550.0</td>\n",
       "      <td>Caspian</td>\n",
       "      <td>Amelio</td>\n",
       "      <td>M</td>\n",
       "      <td>9.0</td>\n",
       "      <td>2001-04-18</td>\n",
       "      <td>B</td>\n",
       "      <td>2015-08-01</td>\n",
       "      <td>2016-05-31</td>\n",
       "    </tr>\n",
       "    <tr>\n",
       "      <th>2</th>\n",
       "      <td>OUJH</td>\n",
       "      <td>76151</td>\n",
       "      <td>7020160.0</td>\n",
       "      <td>Melanie</td>\n",
       "      <td>Aragoni</td>\n",
       "      <td>F</td>\n",
       "      <td>9.0</td>\n",
       "      <td>2001-06-25</td>\n",
       "      <td>B</td>\n",
       "      <td>2015-08-01</td>\n",
       "      <td>2016-05-31</td>\n",
       "    </tr>\n",
       "    <tr>\n",
       "      <th>3</th>\n",
       "      <td>OUJH</td>\n",
       "      <td>46166</td>\n",
       "      <td>9149101.0</td>\n",
       "      <td>Lucia</td>\n",
       "      <td>Bingman</td>\n",
       "      <td>F</td>\n",
       "      <td>9.0</td>\n",
       "      <td>2000-09-28</td>\n",
       "      <td>B</td>\n",
       "      <td>2015-08-01</td>\n",
       "      <td>2016-05-31</td>\n",
       "    </tr>\n",
       "    <tr>\n",
       "      <th>4</th>\n",
       "      <td>OUJH</td>\n",
       "      <td>83230</td>\n",
       "      <td>6182781.0</td>\n",
       "      <td>Andrew</td>\n",
       "      <td>Blacio</td>\n",
       "      <td>M</td>\n",
       "      <td>9.0</td>\n",
       "      <td>2001-06-28</td>\n",
       "      <td>B</td>\n",
       "      <td>2015-08-01</td>\n",
       "      <td>2016-05-31</td>\n",
       "    </tr>\n",
       "  </tbody>\n",
       "</table>\n",
       "</div>"
      ],
      "text/plain": [
       "  School  StudentID    StateID FirstName   LastName Gender  Grade        DOB  \\\n",
       "0   OUJH      15524  6137711.0     Milad  Abdulaziz      M    9.0 2000-09-15   \n",
       "1   OUJH      92924  7767550.0   Caspian     Amelio      M    9.0 2001-04-18   \n",
       "2   OUJH      76151  7020160.0   Melanie    Aragoni      F    9.0 2001-06-25   \n",
       "3   OUJH      46166  9149101.0     Lucia    Bingman      F    9.0 2000-09-28   \n",
       "4   OUJH      83230  6182781.0    Andrew     Blacio      M    9.0 2001-06-28   \n",
       "\n",
       "  Ethnicity  EntryDate   ExitDate  \n",
       "0         B 2015-08-01 2016-05-31  \n",
       "1         B 2015-08-01 2016-05-31  \n",
       "2         B 2015-08-01 2016-05-31  \n",
       "3         B 2015-08-01 2016-05-31  \n",
       "4         B 2015-08-01 2016-05-31  "
      ]
     },
     "execution_count": 3,
     "metadata": {},
     "output_type": "execute_result"
    }
   ],
   "source": [
    "df_sis.head()"
   ]
  },
  {
   "cell_type": "markdown",
   "metadata": {},
   "source": [
    "Read in State data to dataframe"
   ]
  },
  {
   "cell_type": "code",
   "execution_count": 4,
   "metadata": {
    "ExecuteTime": {
     "end_time": "2020-06-02T14:08:37.102208Z",
     "start_time": "2020-06-02T14:08:35.995232Z"
    }
   },
   "outputs": [],
   "source": [
    "df_state = pd.read_excel('data.xlsx', sheet_name=2)"
   ]
  },
  {
   "cell_type": "code",
   "execution_count": 5,
   "metadata": {
    "ExecuteTime": {
     "end_time": "2020-06-02T14:08:37.135267Z",
     "start_time": "2020-06-02T14:08:37.106006Z"
    }
   },
   "outputs": [
    {
     "data": {
      "text/html": [
       "<div>\n",
       "<style scoped>\n",
       "    .dataframe tbody tr th:only-of-type {\n",
       "        vertical-align: middle;\n",
       "    }\n",
       "\n",
       "    .dataframe tbody tr th {\n",
       "        vertical-align: top;\n",
       "    }\n",
       "\n",
       "    .dataframe thead th {\n",
       "        text-align: right;\n",
       "    }\n",
       "</style>\n",
       "<table border=\"1\" class=\"dataframe\">\n",
       "  <thead>\n",
       "    <tr style=\"text-align: right;\">\n",
       "      <th></th>\n",
       "      <th>SchoolID</th>\n",
       "      <th>StateID</th>\n",
       "      <th>FirstName</th>\n",
       "      <th>LastName</th>\n",
       "      <th>Gender</th>\n",
       "      <th>Grade</th>\n",
       "      <th>DOB</th>\n",
       "      <th>Ethnicity</th>\n",
       "      <th>EntryDate</th>\n",
       "      <th>ExitDate</th>\n",
       "      <th>Classification</th>\n",
       "    </tr>\n",
       "  </thead>\n",
       "  <tbody>\n",
       "    <tr>\n",
       "      <th>0</th>\n",
       "      <td>1013</td>\n",
       "      <td>6137711</td>\n",
       "      <td>MILAD</td>\n",
       "      <td>ABDULAZIZ</td>\n",
       "      <td>M</td>\n",
       "      <td>9.0</td>\n",
       "      <td>2000-09-15</td>\n",
       "      <td>B</td>\n",
       "      <td>2015-08-01</td>\n",
       "      <td>NaT</td>\n",
       "      <td>3</td>\n",
       "    </tr>\n",
       "    <tr>\n",
       "      <th>1</th>\n",
       "      <td>1013</td>\n",
       "      <td>7767550</td>\n",
       "      <td>CASPIAN</td>\n",
       "      <td>AMELIO</td>\n",
       "      <td>M</td>\n",
       "      <td>9.0</td>\n",
       "      <td>2001-04-18</td>\n",
       "      <td>B</td>\n",
       "      <td>2015-08-01</td>\n",
       "      <td>NaT</td>\n",
       "      <td>4</td>\n",
       "    </tr>\n",
       "    <tr>\n",
       "      <th>2</th>\n",
       "      <td>1013</td>\n",
       "      <td>7020160</td>\n",
       "      <td>MELANIE</td>\n",
       "      <td>ARAGONI</td>\n",
       "      <td>F</td>\n",
       "      <td>9.0</td>\n",
       "      <td>2001-06-25</td>\n",
       "      <td>B</td>\n",
       "      <td>2015-08-01</td>\n",
       "      <td>NaT</td>\n",
       "      <td>3</td>\n",
       "    </tr>\n",
       "    <tr>\n",
       "      <th>3</th>\n",
       "      <td>1013</td>\n",
       "      <td>9149101</td>\n",
       "      <td>LUCIA</td>\n",
       "      <td>BINGMAN</td>\n",
       "      <td>F</td>\n",
       "      <td>9.0</td>\n",
       "      <td>2000-09-28</td>\n",
       "      <td>B</td>\n",
       "      <td>2015-08-01</td>\n",
       "      <td>NaT</td>\n",
       "      <td>2</td>\n",
       "    </tr>\n",
       "    <tr>\n",
       "      <th>4</th>\n",
       "      <td>1013</td>\n",
       "      <td>6182781</td>\n",
       "      <td>ANDREW</td>\n",
       "      <td>BLACIO</td>\n",
       "      <td>M</td>\n",
       "      <td>9.0</td>\n",
       "      <td>2001-06-28</td>\n",
       "      <td>B</td>\n",
       "      <td>2015-08-01</td>\n",
       "      <td>NaT</td>\n",
       "      <td>2</td>\n",
       "    </tr>\n",
       "  </tbody>\n",
       "</table>\n",
       "</div>"
      ],
      "text/plain": [
       "   SchoolID  StateID FirstName   LastName Gender  Grade        DOB Ethnicity  \\\n",
       "0      1013  6137711     MILAD  ABDULAZIZ      M    9.0 2000-09-15         B   \n",
       "1      1013  7767550   CASPIAN     AMELIO      M    9.0 2001-04-18         B   \n",
       "2      1013  7020160   MELANIE    ARAGONI      F    9.0 2001-06-25         B   \n",
       "3      1013  9149101     LUCIA    BINGMAN      F    9.0 2000-09-28         B   \n",
       "4      1013  6182781    ANDREW     BLACIO      M    9.0 2001-06-28         B   \n",
       "\n",
       "   EntryDate ExitDate  Classification  \n",
       "0 2015-08-01      NaT               3  \n",
       "1 2015-08-01      NaT               4  \n",
       "2 2015-08-01      NaT               3  \n",
       "3 2015-08-01      NaT               2  \n",
       "4 2015-08-01      NaT               2  "
      ]
     },
     "execution_count": 5,
     "metadata": {},
     "output_type": "execute_result"
    }
   ],
   "source": [
    "df_state.head()"
   ]
  },
  {
   "cell_type": "markdown",
   "metadata": {},
   "source": [
    "View state column headers"
   ]
  },
  {
   "cell_type": "code",
   "execution_count": 6,
   "metadata": {
    "ExecuteTime": {
     "end_time": "2020-06-02T14:08:37.151159Z",
     "start_time": "2020-06-02T14:08:37.140148Z"
    }
   },
   "outputs": [
    {
     "data": {
      "text/plain": [
       "Index(['SchoolID', 'StateID', 'FirstName', 'LastName', 'Gender', 'Grade',\n",
       "       'DOB', 'Ethnicity', 'EntryDate', 'ExitDate', 'Classification'],\n",
       "      dtype='object')"
      ]
     },
     "execution_count": 6,
     "metadata": {},
     "output_type": "execute_result"
    }
   ],
   "source": [
    "df_state.columns"
   ]
  },
  {
   "cell_type": "markdown",
   "metadata": {},
   "source": [
    "View SIS column headers"
   ]
  },
  {
   "cell_type": "code",
   "execution_count": 7,
   "metadata": {
    "ExecuteTime": {
     "end_time": "2020-06-02T14:08:37.164208Z",
     "start_time": "2020-06-02T14:08:37.155245Z"
    }
   },
   "outputs": [
    {
     "data": {
      "text/plain": [
       "Index(['School', 'StudentID', 'StateID', 'FirstName', 'LastName', 'Gender',\n",
       "       'Grade', 'DOB', 'Ethnicity', 'EntryDate', 'ExitDate'],\n",
       "      dtype='object')"
      ]
     },
     "execution_count": 7,
     "metadata": {},
     "output_type": "execute_result"
    }
   ],
   "source": [
    "df_sis.columns"
   ]
  },
  {
   "cell_type": "markdown",
   "metadata": {},
   "source": [
    "View State data types"
   ]
  },
  {
   "cell_type": "code",
   "execution_count": 8,
   "metadata": {
    "ExecuteTime": {
     "end_time": "2020-06-02T14:08:37.181421Z",
     "start_time": "2020-06-02T14:08:37.168892Z"
    }
   },
   "outputs": [
    {
     "data": {
      "text/plain": [
       "SchoolID                   int64\n",
       "StateID                    int64\n",
       "FirstName                 object\n",
       "LastName                  object\n",
       "Gender                    object\n",
       "Grade                    float64\n",
       "DOB               datetime64[ns]\n",
       "Ethnicity                 object\n",
       "EntryDate         datetime64[ns]\n",
       "ExitDate          datetime64[ns]\n",
       "Classification             int64\n",
       "dtype: object"
      ]
     },
     "execution_count": 8,
     "metadata": {},
     "output_type": "execute_result"
    }
   ],
   "source": [
    "df_state.dtypes"
   ]
  },
  {
   "cell_type": "markdown",
   "metadata": {},
   "source": [
    "View SIS data types"
   ]
  },
  {
   "cell_type": "code",
   "execution_count": 9,
   "metadata": {
    "ExecuteTime": {
     "end_time": "2020-06-02T14:08:37.193653Z",
     "start_time": "2020-06-02T14:08:37.184288Z"
    }
   },
   "outputs": [
    {
     "data": {
      "text/plain": [
       "School               object\n",
       "StudentID             int64\n",
       "StateID             float64\n",
       "FirstName            object\n",
       "LastName             object\n",
       "Gender               object\n",
       "Grade               float64\n",
       "DOB          datetime64[ns]\n",
       "Ethnicity            object\n",
       "EntryDate    datetime64[ns]\n",
       "ExitDate     datetime64[ns]\n",
       "dtype: object"
      ]
     },
     "execution_count": 9,
     "metadata": {},
     "output_type": "execute_result"
    }
   ],
   "source": [
    "df_sis.dtypes"
   ]
  },
  {
   "cell_type": "markdown",
   "metadata": {},
   "source": [
    "Fill NA values in SIS with a zero"
   ]
  },
  {
   "cell_type": "code",
   "execution_count": 10,
   "metadata": {
    "ExecuteTime": {
     "end_time": "2020-06-02T14:08:37.283254Z",
     "start_time": "2020-06-02T14:08:37.197086Z"
    }
   },
   "outputs": [],
   "source": [
    "df_sis = df_sis.fillna(0)"
   ]
  },
  {
   "cell_type": "markdown",
   "metadata": {},
   "source": [
    "Change StateID in SIS dataframe to integer"
   ]
  },
  {
   "cell_type": "code",
   "execution_count": 11,
   "metadata": {
    "ExecuteTime": {
     "end_time": "2020-06-02T14:08:37.308999Z",
     "start_time": "2020-06-02T14:08:37.287731Z"
    }
   },
   "outputs": [
    {
     "data": {
      "text/plain": [
       "School               object\n",
       "StudentID             int64\n",
       "StateID               int64\n",
       "FirstName            object\n",
       "LastName             object\n",
       "Gender               object\n",
       "Grade               float64\n",
       "DOB                  object\n",
       "Ethnicity            object\n",
       "EntryDate    datetime64[ns]\n",
       "ExitDate     datetime64[ns]\n",
       "dtype: object"
      ]
     },
     "execution_count": 11,
     "metadata": {},
     "output_type": "execute_result"
    }
   ],
   "source": [
    "df_sis.astype({'StateID': 'int64'}).dtypes"
   ]
  },
  {
   "cell_type": "markdown",
   "metadata": {},
   "source": [
    "Set index in SIS data to StateID"
   ]
  },
  {
   "cell_type": "code",
   "execution_count": 12,
   "metadata": {
    "ExecuteTime": {
     "end_time": "2020-06-02T14:08:37.325959Z",
     "start_time": "2020-06-02T14:08:37.316732Z"
    }
   },
   "outputs": [],
   "source": [
    "df_sis = df_sis.set_index('StateID')"
   ]
  },
  {
   "cell_type": "markdown",
   "metadata": {},
   "source": [
    "Set index in State data to StateID"
   ]
  },
  {
   "cell_type": "code",
   "execution_count": 13,
   "metadata": {
    "ExecuteTime": {
     "end_time": "2020-06-02T14:08:37.342362Z",
     "start_time": "2020-06-02T14:08:37.331660Z"
    }
   },
   "outputs": [],
   "source": [
    "df_state = df_state.set_index('StateID')"
   ]
  },
  {
   "cell_type": "code",
   "execution_count": 14,
   "metadata": {
    "ExecuteTime": {
     "end_time": "2020-06-02T14:08:37.378112Z",
     "start_time": "2020-06-02T14:08:37.346705Z"
    }
   },
   "outputs": [
    {
     "data": {
      "text/html": [
       "<div>\n",
       "<style scoped>\n",
       "    .dataframe tbody tr th:only-of-type {\n",
       "        vertical-align: middle;\n",
       "    }\n",
       "\n",
       "    .dataframe tbody tr th {\n",
       "        vertical-align: top;\n",
       "    }\n",
       "\n",
       "    .dataframe thead th {\n",
       "        text-align: right;\n",
       "    }\n",
       "</style>\n",
       "<table border=\"1\" class=\"dataframe\">\n",
       "  <thead>\n",
       "    <tr style=\"text-align: right;\">\n",
       "      <th></th>\n",
       "      <th>SchoolID</th>\n",
       "      <th>FirstName</th>\n",
       "      <th>LastName</th>\n",
       "      <th>Gender</th>\n",
       "      <th>Grade</th>\n",
       "      <th>DOB</th>\n",
       "      <th>Ethnicity</th>\n",
       "      <th>EntryDate</th>\n",
       "      <th>ExitDate</th>\n",
       "      <th>Classification</th>\n",
       "    </tr>\n",
       "    <tr>\n",
       "      <th>StateID</th>\n",
       "      <th></th>\n",
       "      <th></th>\n",
       "      <th></th>\n",
       "      <th></th>\n",
       "      <th></th>\n",
       "      <th></th>\n",
       "      <th></th>\n",
       "      <th></th>\n",
       "      <th></th>\n",
       "      <th></th>\n",
       "    </tr>\n",
       "  </thead>\n",
       "  <tbody>\n",
       "    <tr>\n",
       "      <th>6137711</th>\n",
       "      <td>1013</td>\n",
       "      <td>MILAD</td>\n",
       "      <td>ABDULAZIZ</td>\n",
       "      <td>M</td>\n",
       "      <td>9.0</td>\n",
       "      <td>2000-09-15</td>\n",
       "      <td>B</td>\n",
       "      <td>2015-08-01</td>\n",
       "      <td>NaT</td>\n",
       "      <td>3</td>\n",
       "    </tr>\n",
       "    <tr>\n",
       "      <th>7767550</th>\n",
       "      <td>1013</td>\n",
       "      <td>CASPIAN</td>\n",
       "      <td>AMELIO</td>\n",
       "      <td>M</td>\n",
       "      <td>9.0</td>\n",
       "      <td>2001-04-18</td>\n",
       "      <td>B</td>\n",
       "      <td>2015-08-01</td>\n",
       "      <td>NaT</td>\n",
       "      <td>4</td>\n",
       "    </tr>\n",
       "    <tr>\n",
       "      <th>7020160</th>\n",
       "      <td>1013</td>\n",
       "      <td>MELANIE</td>\n",
       "      <td>ARAGONI</td>\n",
       "      <td>F</td>\n",
       "      <td>9.0</td>\n",
       "      <td>2001-06-25</td>\n",
       "      <td>B</td>\n",
       "      <td>2015-08-01</td>\n",
       "      <td>NaT</td>\n",
       "      <td>3</td>\n",
       "    </tr>\n",
       "    <tr>\n",
       "      <th>9149101</th>\n",
       "      <td>1013</td>\n",
       "      <td>LUCIA</td>\n",
       "      <td>BINGMAN</td>\n",
       "      <td>F</td>\n",
       "      <td>9.0</td>\n",
       "      <td>2000-09-28</td>\n",
       "      <td>B</td>\n",
       "      <td>2015-08-01</td>\n",
       "      <td>NaT</td>\n",
       "      <td>2</td>\n",
       "    </tr>\n",
       "    <tr>\n",
       "      <th>6182781</th>\n",
       "      <td>1013</td>\n",
       "      <td>ANDREW</td>\n",
       "      <td>BLACIO</td>\n",
       "      <td>M</td>\n",
       "      <td>9.0</td>\n",
       "      <td>2001-06-28</td>\n",
       "      <td>B</td>\n",
       "      <td>2015-08-01</td>\n",
       "      <td>NaT</td>\n",
       "      <td>2</td>\n",
       "    </tr>\n",
       "  </tbody>\n",
       "</table>\n",
       "</div>"
      ],
      "text/plain": [
       "         SchoolID FirstName   LastName Gender  Grade        DOB Ethnicity  \\\n",
       "StateID                                                                     \n",
       "6137711      1013     MILAD  ABDULAZIZ      M    9.0 2000-09-15         B   \n",
       "7767550      1013   CASPIAN     AMELIO      M    9.0 2001-04-18         B   \n",
       "7020160      1013   MELANIE    ARAGONI      F    9.0 2001-06-25         B   \n",
       "9149101      1013     LUCIA    BINGMAN      F    9.0 2000-09-28         B   \n",
       "6182781      1013    ANDREW     BLACIO      M    9.0 2001-06-28         B   \n",
       "\n",
       "         EntryDate ExitDate  Classification  \n",
       "StateID                                      \n",
       "6137711 2015-08-01      NaT               3  \n",
       "7767550 2015-08-01      NaT               4  \n",
       "7020160 2015-08-01      NaT               3  \n",
       "9149101 2015-08-01      NaT               2  \n",
       "6182781 2015-08-01      NaT               2  "
      ]
     },
     "execution_count": 14,
     "metadata": {},
     "output_type": "execute_result"
    }
   ],
   "source": [
    "df_state.head()"
   ]
  },
  {
   "cell_type": "markdown",
   "metadata": {},
   "source": [
    "Compare number of rows in State with number of rows in SIS"
   ]
  },
  {
   "cell_type": "code",
   "execution_count": 15,
   "metadata": {
    "ExecuteTime": {
     "end_time": "2020-06-02T14:08:37.395563Z",
     "start_time": "2020-06-02T14:08:37.382779Z"
    }
   },
   "outputs": [
    {
     "data": {
      "text/plain": [
       "2933"
      ]
     },
     "execution_count": 15,
     "metadata": {},
     "output_type": "execute_result"
    }
   ],
   "source": [
    "len(df_state)"
   ]
  },
  {
   "cell_type": "code",
   "execution_count": 16,
   "metadata": {
    "ExecuteTime": {
     "end_time": "2020-06-02T14:08:37.409907Z",
     "start_time": "2020-06-02T14:08:37.401557Z"
    }
   },
   "outputs": [
    {
     "data": {
      "text/plain": [
       "2938"
      ]
     },
     "execution_count": 16,
     "metadata": {},
     "output_type": "execute_result"
    }
   ],
   "source": [
    "len(df_sis)"
   ]
  },
  {
   "cell_type": "markdown",
   "metadata": {},
   "source": [
    "Merge two dataframes on StateID with outer join"
   ]
  },
  {
   "cell_type": "code",
   "execution_count": 17,
   "metadata": {
    "ExecuteTime": {
     "end_time": "2020-06-02T14:08:37.447828Z",
     "start_time": "2020-06-02T14:08:37.414104Z"
    }
   },
   "outputs": [],
   "source": [
    "df_merge = pd.merge(df_state, df_sis, on='StateID', how='outer')"
   ]
  },
  {
   "cell_type": "markdown",
   "metadata": {},
   "source": [
    "Check length of merged df"
   ]
  },
  {
   "cell_type": "code",
   "execution_count": 18,
   "metadata": {
    "ExecuteTime": {
     "end_time": "2020-06-02T14:08:37.460117Z",
     "start_time": "2020-06-02T14:08:37.452769Z"
    }
   },
   "outputs": [
    {
     "data": {
      "text/plain": [
       "2941"
      ]
     },
     "execution_count": 18,
     "metadata": {},
     "output_type": "execute_result"
    }
   ],
   "source": [
    "len(df_merge)"
   ]
  },
  {
   "cell_type": "markdown",
   "metadata": {},
   "source": [
    "Change format of FirstName and LastName columns in SIS df to uppercase to match State df"
   ]
  },
  {
   "cell_type": "code",
   "execution_count": 19,
   "metadata": {
    "ExecuteTime": {
     "end_time": "2020-06-02T14:08:37.978410Z",
     "start_time": "2020-06-02T14:08:37.969436Z"
    }
   },
   "outputs": [],
   "source": [
    "df_sis['FirstName'] = df_sis['FirstName'].str.upper()"
   ]
  },
  {
   "cell_type": "code",
   "execution_count": 20,
   "metadata": {
    "ExecuteTime": {
     "end_time": "2020-06-02T14:08:38.206708Z",
     "start_time": "2020-06-02T14:08:38.196286Z"
    }
   },
   "outputs": [],
   "source": [
    "df_sis['LastName'] = df_sis['LastName'].str.upper()"
   ]
  },
  {
   "cell_type": "code",
   "execution_count": 21,
   "metadata": {
    "ExecuteTime": {
     "end_time": "2020-06-02T14:08:38.756612Z",
     "start_time": "2020-06-02T14:08:38.733902Z"
    }
   },
   "outputs": [
    {
     "data": {
      "text/html": [
       "<div>\n",
       "<style scoped>\n",
       "    .dataframe tbody tr th:only-of-type {\n",
       "        vertical-align: middle;\n",
       "    }\n",
       "\n",
       "    .dataframe tbody tr th {\n",
       "        vertical-align: top;\n",
       "    }\n",
       "\n",
       "    .dataframe thead th {\n",
       "        text-align: right;\n",
       "    }\n",
       "</style>\n",
       "<table border=\"1\" class=\"dataframe\">\n",
       "  <thead>\n",
       "    <tr style=\"text-align: right;\">\n",
       "      <th></th>\n",
       "      <th>School</th>\n",
       "      <th>StudentID</th>\n",
       "      <th>FirstName</th>\n",
       "      <th>LastName</th>\n",
       "      <th>Gender</th>\n",
       "      <th>Grade</th>\n",
       "      <th>DOB</th>\n",
       "      <th>Ethnicity</th>\n",
       "      <th>EntryDate</th>\n",
       "      <th>ExitDate</th>\n",
       "    </tr>\n",
       "    <tr>\n",
       "      <th>StateID</th>\n",
       "      <th></th>\n",
       "      <th></th>\n",
       "      <th></th>\n",
       "      <th></th>\n",
       "      <th></th>\n",
       "      <th></th>\n",
       "      <th></th>\n",
       "      <th></th>\n",
       "      <th></th>\n",
       "      <th></th>\n",
       "    </tr>\n",
       "  </thead>\n",
       "  <tbody>\n",
       "    <tr>\n",
       "      <th>6137711.0</th>\n",
       "      <td>OUJH</td>\n",
       "      <td>15524</td>\n",
       "      <td>MILAD</td>\n",
       "      <td>ABDULAZIZ</td>\n",
       "      <td>M</td>\n",
       "      <td>9.0</td>\n",
       "      <td>2000-09-15 00:00:00</td>\n",
       "      <td>B</td>\n",
       "      <td>2015-08-01</td>\n",
       "      <td>2016-05-31</td>\n",
       "    </tr>\n",
       "    <tr>\n",
       "      <th>7767550.0</th>\n",
       "      <td>OUJH</td>\n",
       "      <td>92924</td>\n",
       "      <td>CASPIAN</td>\n",
       "      <td>AMELIO</td>\n",
       "      <td>M</td>\n",
       "      <td>9.0</td>\n",
       "      <td>2001-04-18 00:00:00</td>\n",
       "      <td>B</td>\n",
       "      <td>2015-08-01</td>\n",
       "      <td>2016-05-31</td>\n",
       "    </tr>\n",
       "    <tr>\n",
       "      <th>7020160.0</th>\n",
       "      <td>OUJH</td>\n",
       "      <td>76151</td>\n",
       "      <td>MELANIE</td>\n",
       "      <td>ARAGONI</td>\n",
       "      <td>F</td>\n",
       "      <td>9.0</td>\n",
       "      <td>2001-06-25 00:00:00</td>\n",
       "      <td>B</td>\n",
       "      <td>2015-08-01</td>\n",
       "      <td>2016-05-31</td>\n",
       "    </tr>\n",
       "    <tr>\n",
       "      <th>9149101.0</th>\n",
       "      <td>OUJH</td>\n",
       "      <td>46166</td>\n",
       "      <td>LUCIA</td>\n",
       "      <td>BINGMAN</td>\n",
       "      <td>F</td>\n",
       "      <td>9.0</td>\n",
       "      <td>2000-09-28 00:00:00</td>\n",
       "      <td>B</td>\n",
       "      <td>2015-08-01</td>\n",
       "      <td>2016-05-31</td>\n",
       "    </tr>\n",
       "    <tr>\n",
       "      <th>6182781.0</th>\n",
       "      <td>OUJH</td>\n",
       "      <td>83230</td>\n",
       "      <td>ANDREW</td>\n",
       "      <td>BLACIO</td>\n",
       "      <td>M</td>\n",
       "      <td>9.0</td>\n",
       "      <td>2001-06-28 00:00:00</td>\n",
       "      <td>B</td>\n",
       "      <td>2015-08-01</td>\n",
       "      <td>2016-05-31</td>\n",
       "    </tr>\n",
       "  </tbody>\n",
       "</table>\n",
       "</div>"
      ],
      "text/plain": [
       "          School  StudentID FirstName   LastName Gender  Grade  \\\n",
       "StateID                                                          \n",
       "6137711.0   OUJH      15524     MILAD  ABDULAZIZ      M    9.0   \n",
       "7767550.0   OUJH      92924   CASPIAN     AMELIO      M    9.0   \n",
       "7020160.0   OUJH      76151   MELANIE    ARAGONI      F    9.0   \n",
       "9149101.0   OUJH      46166     LUCIA    BINGMAN      F    9.0   \n",
       "6182781.0   OUJH      83230    ANDREW     BLACIO      M    9.0   \n",
       "\n",
       "                           DOB Ethnicity  EntryDate   ExitDate  \n",
       "StateID                                                         \n",
       "6137711.0  2000-09-15 00:00:00         B 2015-08-01 2016-05-31  \n",
       "7767550.0  2001-04-18 00:00:00         B 2015-08-01 2016-05-31  \n",
       "7020160.0  2001-06-25 00:00:00         B 2015-08-01 2016-05-31  \n",
       "9149101.0  2000-09-28 00:00:00         B 2015-08-01 2016-05-31  \n",
       "6182781.0  2001-06-28 00:00:00         B 2015-08-01 2016-05-31  "
      ]
     },
     "execution_count": 21,
     "metadata": {},
     "output_type": "execute_result"
    }
   ],
   "source": [
    "df_sis.head()"
   ]
  },
  {
   "cell_type": "markdown",
   "metadata": {},
   "source": [
    "Concatenate State and SIS df then sort by name"
   ]
  },
  {
   "cell_type": "code",
   "execution_count": 22,
   "metadata": {
    "ExecuteTime": {
     "end_time": "2020-06-02T14:08:39.449535Z",
     "start_time": "2020-06-02T14:08:39.380713Z"
    }
   },
   "outputs": [],
   "source": [
    "df_concat = pd.concat([df_state, df_sis], sort=True)"
   ]
  },
  {
   "cell_type": "code",
   "execution_count": 31,
   "metadata": {
    "ExecuteTime": {
     "end_time": "2020-06-02T14:11:47.546724Z",
     "start_time": "2020-06-02T14:11:47.528546Z"
    }
   },
   "outputs": [],
   "source": [
    "df_sorted = df_concat.sort_values(by=['LastName', 'FirstName'])"
   ]
  },
  {
   "cell_type": "markdown",
   "metadata": {},
   "source": [
    "Drop columns that don't exist in other system"
   ]
  },
  {
   "cell_type": "code",
   "execution_count": 34,
   "metadata": {
    "ExecuteTime": {
     "end_time": "2020-06-02T14:12:12.714405Z",
     "start_time": "2020-06-02T14:12:12.707294Z"
    }
   },
   "outputs": [],
   "source": [
    "df_sorted = df_sorted.drop(axis = 1, columns= ['Classification', 'ExitDate', 'School', 'SchoolID', 'StudentID'])"
   ]
  },
  {
   "cell_type": "code",
   "execution_count": 35,
   "metadata": {
    "ExecuteTime": {
     "end_time": "2020-06-02T14:12:15.955553Z",
     "start_time": "2020-06-02T14:12:15.936236Z"
    }
   },
   "outputs": [
    {
     "data": {
      "text/html": [
       "<div>\n",
       "<style scoped>\n",
       "    .dataframe tbody tr th:only-of-type {\n",
       "        vertical-align: middle;\n",
       "    }\n",
       "\n",
       "    .dataframe tbody tr th {\n",
       "        vertical-align: top;\n",
       "    }\n",
       "\n",
       "    .dataframe thead th {\n",
       "        text-align: right;\n",
       "    }\n",
       "</style>\n",
       "<table border=\"1\" class=\"dataframe\">\n",
       "  <thead>\n",
       "    <tr style=\"text-align: right;\">\n",
       "      <th></th>\n",
       "      <th>DOB</th>\n",
       "      <th>EntryDate</th>\n",
       "      <th>Ethnicity</th>\n",
       "      <th>FirstName</th>\n",
       "      <th>Gender</th>\n",
       "      <th>Grade</th>\n",
       "      <th>LastName</th>\n",
       "    </tr>\n",
       "    <tr>\n",
       "      <th>StateID</th>\n",
       "      <th></th>\n",
       "      <th></th>\n",
       "      <th></th>\n",
       "      <th></th>\n",
       "      <th></th>\n",
       "      <th></th>\n",
       "      <th></th>\n",
       "    </tr>\n",
       "  </thead>\n",
       "  <tbody>\n",
       "    <tr>\n",
       "      <th>8866962.0</th>\n",
       "      <td>1998-02-16 00:00:00</td>\n",
       "      <td>2015-08-01</td>\n",
       "      <td>B</td>\n",
       "      <td>CAMILA</td>\n",
       "      <td>F</td>\n",
       "      <td>12.0</td>\n",
       "      <td>AANDERUD</td>\n",
       "    </tr>\n",
       "    <tr>\n",
       "      <th>8866962.0</th>\n",
       "      <td>1998-02-16 00:00:00</td>\n",
       "      <td>2015-08-01</td>\n",
       "      <td>B</td>\n",
       "      <td>CAMILA</td>\n",
       "      <td>F</td>\n",
       "      <td>12.0</td>\n",
       "      <td>AANDERUD</td>\n",
       "    </tr>\n",
       "    <tr>\n",
       "      <th>6137711.0</th>\n",
       "      <td>2000-09-15 00:00:00</td>\n",
       "      <td>2015-08-01</td>\n",
       "      <td>B</td>\n",
       "      <td>MILAD</td>\n",
       "      <td>M</td>\n",
       "      <td>9.0</td>\n",
       "      <td>ABDULAZIZ</td>\n",
       "    </tr>\n",
       "    <tr>\n",
       "      <th>6137711.0</th>\n",
       "      <td>2000-09-15 00:00:00</td>\n",
       "      <td>2015-08-01</td>\n",
       "      <td>B</td>\n",
       "      <td>MILAD</td>\n",
       "      <td>M</td>\n",
       "      <td>9.0</td>\n",
       "      <td>ABDULAZIZ</td>\n",
       "    </tr>\n",
       "    <tr>\n",
       "      <th>7621581.0</th>\n",
       "      <td>1998-11-03 00:00:00</td>\n",
       "      <td>2015-08-01</td>\n",
       "      <td>H</td>\n",
       "      <td>CARSON</td>\n",
       "      <td>M</td>\n",
       "      <td>11.0</td>\n",
       "      <td>ABEYTA</td>\n",
       "    </tr>\n",
       "  </tbody>\n",
       "</table>\n",
       "</div>"
      ],
      "text/plain": [
       "                           DOB  EntryDate Ethnicity FirstName Gender  Grade  \\\n",
       "StateID                                                                       \n",
       "8866962.0  1998-02-16 00:00:00 2015-08-01         B    CAMILA      F   12.0   \n",
       "8866962.0  1998-02-16 00:00:00 2015-08-01         B    CAMILA      F   12.0   \n",
       "6137711.0  2000-09-15 00:00:00 2015-08-01         B     MILAD      M    9.0   \n",
       "6137711.0  2000-09-15 00:00:00 2015-08-01         B     MILAD      M    9.0   \n",
       "7621581.0  1998-11-03 00:00:00 2015-08-01         H    CARSON      M   11.0   \n",
       "\n",
       "            LastName  \n",
       "StateID               \n",
       "8866962.0   AANDERUD  \n",
       "8866962.0   AANDERUD  \n",
       "6137711.0  ABDULAZIZ  \n",
       "6137711.0  ABDULAZIZ  \n",
       "7621581.0     ABEYTA  "
      ]
     },
     "execution_count": 35,
     "metadata": {},
     "output_type": "execute_result"
    }
   ],
   "source": [
    "df_sorted.head()"
   ]
  },
  {
   "cell_type": "markdown",
   "metadata": {},
   "source": [
    "Only keep rows that aren't duplicated"
   ]
  },
  {
   "cell_type": "code",
   "execution_count": 47,
   "metadata": {
    "ExecuteTime": {
     "end_time": "2020-06-02T14:23:01.361613Z",
     "start_time": "2020-06-02T14:23:01.297857Z"
    }
   },
   "outputs": [],
   "source": [
    "dup_rows = df_sorted[df_sorted.duplicated(keep=False) == False]"
   ]
  },
  {
   "cell_type": "code",
   "execution_count": 50,
   "metadata": {
    "ExecuteTime": {
     "end_time": "2020-06-02T14:23:21.450058Z",
     "start_time": "2020-06-02T14:23:21.405890Z"
    }
   },
   "outputs": [
    {
     "data": {
      "text/html": [
       "<div>\n",
       "<style scoped>\n",
       "    .dataframe tbody tr th:only-of-type {\n",
       "        vertical-align: middle;\n",
       "    }\n",
       "\n",
       "    .dataframe tbody tr th {\n",
       "        vertical-align: top;\n",
       "    }\n",
       "\n",
       "    .dataframe thead th {\n",
       "        text-align: right;\n",
       "    }\n",
       "</style>\n",
       "<table border=\"1\" class=\"dataframe\">\n",
       "  <thead>\n",
       "    <tr style=\"text-align: right;\">\n",
       "      <th></th>\n",
       "      <th>DOB</th>\n",
       "      <th>EntryDate</th>\n",
       "      <th>Ethnicity</th>\n",
       "      <th>FirstName</th>\n",
       "      <th>Gender</th>\n",
       "      <th>Grade</th>\n",
       "      <th>LastName</th>\n",
       "    </tr>\n",
       "    <tr>\n",
       "      <th>StateID</th>\n",
       "      <th></th>\n",
       "      <th></th>\n",
       "      <th></th>\n",
       "      <th></th>\n",
       "      <th></th>\n",
       "      <th></th>\n",
       "      <th></th>\n",
       "    </tr>\n",
       "  </thead>\n",
       "  <tbody>\n",
       "    <tr>\n",
       "      <th>6.658813e+06</th>\n",
       "      <td>1998-03-08 00:00:00</td>\n",
       "      <td>2015-08-01</td>\n",
       "      <td>B</td>\n",
       "      <td>BRENNON</td>\n",
       "      <td>M</td>\n",
       "      <td>12.0</td>\n",
       "      <td>AHNELL</td>\n",
       "    </tr>\n",
       "    <tr>\n",
       "      <th>6.658813e+06</th>\n",
       "      <td>0</td>\n",
       "      <td>2015-08-01</td>\n",
       "      <td>B</td>\n",
       "      <td>BRENNON</td>\n",
       "      <td>M</td>\n",
       "      <td>12.0</td>\n",
       "      <td>AHNELL</td>\n",
       "    </tr>\n",
       "    <tr>\n",
       "      <th>5.903576e+06</th>\n",
       "      <td>2002-07-28 00:00:00</td>\n",
       "      <td>2015-08-01</td>\n",
       "      <td>B</td>\n",
       "      <td>BRADEN</td>\n",
       "      <td>M</td>\n",
       "      <td>8.0</td>\n",
       "      <td>AHUNA</td>\n",
       "    </tr>\n",
       "    <tr>\n",
       "      <th>5.903576e+06</th>\n",
       "      <td>2001-07-28 00:00:00</td>\n",
       "      <td>2015-08-01</td>\n",
       "      <td>B</td>\n",
       "      <td>BRADEN</td>\n",
       "      <td>M</td>\n",
       "      <td>9.0</td>\n",
       "      <td>AHUNA</td>\n",
       "    </tr>\n",
       "    <tr>\n",
       "      <th>3.416733e+06</th>\n",
       "      <td>1999-08-09 00:00:00</td>\n",
       "      <td>2015-08-01</td>\n",
       "      <td>B</td>\n",
       "      <td>RYAN</td>\n",
       "      <td>M</td>\n",
       "      <td>11.0</td>\n",
       "      <td>BARRY</td>\n",
       "    </tr>\n",
       "    <tr>\n",
       "      <th>3.416733e+06</th>\n",
       "      <td>0</td>\n",
       "      <td>2015-08-01</td>\n",
       "      <td>B</td>\n",
       "      <td>RYAN</td>\n",
       "      <td>M</td>\n",
       "      <td>11.0</td>\n",
       "      <td>BARRY</td>\n",
       "    </tr>\n",
       "    <tr>\n",
       "      <th>2.680118e+06</th>\n",
       "      <td>1998-08-13 00:00:00</td>\n",
       "      <td>2015-08-01</td>\n",
       "      <td>B</td>\n",
       "      <td>LEXI</td>\n",
       "      <td>F</td>\n",
       "      <td>12.0</td>\n",
       "      <td>BEUTEL</td>\n",
       "    </tr>\n",
       "    <tr>\n",
       "      <th>2.680118e+06</th>\n",
       "      <td>1998-08-13 00:00:00</td>\n",
       "      <td>2015-08-01</td>\n",
       "      <td>B</td>\n",
       "      <td>LEXY</td>\n",
       "      <td>F</td>\n",
       "      <td>12.0</td>\n",
       "      <td>BEUTEL</td>\n",
       "    </tr>\n",
       "    <tr>\n",
       "      <th>6.301815e+06</th>\n",
       "      <td>1999-01-23 00:00:00</td>\n",
       "      <td>2015-08-01</td>\n",
       "      <td>B</td>\n",
       "      <td>ZIANA</td>\n",
       "      <td>F</td>\n",
       "      <td>11.0</td>\n",
       "      <td>CHRYSTAL</td>\n",
       "    </tr>\n",
       "    <tr>\n",
       "      <th>6.301815e+06</th>\n",
       "      <td>1999-01-23 00:00:00</td>\n",
       "      <td>2015-08-01</td>\n",
       "      <td>0</td>\n",
       "      <td>ZIANA</td>\n",
       "      <td>F</td>\n",
       "      <td>11.0</td>\n",
       "      <td>CHRYSTAL</td>\n",
       "    </tr>\n",
       "    <tr>\n",
       "      <th>7.793552e+06</th>\n",
       "      <td>1997-09-19 00:00:00</td>\n",
       "      <td>2015-08-01</td>\n",
       "      <td>B</td>\n",
       "      <td>VONTRELL</td>\n",
       "      <td>M</td>\n",
       "      <td>12.0</td>\n",
       "      <td>CILLEY</td>\n",
       "    </tr>\n",
       "    <tr>\n",
       "      <th>5.786182e+06</th>\n",
       "      <td>1999-01-03 00:00:00</td>\n",
       "      <td>2015-08-01</td>\n",
       "      <td>B</td>\n",
       "      <td>VANESSA</td>\n",
       "      <td>M</td>\n",
       "      <td>11.0</td>\n",
       "      <td>COKINS</td>\n",
       "    </tr>\n",
       "    <tr>\n",
       "      <th>5.786182e+06</th>\n",
       "      <td>1999-01-03 00:00:00</td>\n",
       "      <td>2015-08-01</td>\n",
       "      <td>0</td>\n",
       "      <td>VANESSA</td>\n",
       "      <td>M</td>\n",
       "      <td>11.0</td>\n",
       "      <td>COKINS</td>\n",
       "    </tr>\n",
       "    <tr>\n",
       "      <th>8.393341e+06</th>\n",
       "      <td>1998-12-17 00:00:00</td>\n",
       "      <td>2015-08-04</td>\n",
       "      <td>B</td>\n",
       "      <td>ARIANNA</td>\n",
       "      <td>F</td>\n",
       "      <td>11.0</td>\n",
       "      <td>DUMDEI</td>\n",
       "    </tr>\n",
       "    <tr>\n",
       "      <th>8.393341e+06</th>\n",
       "      <td>1998-12-17 00:00:00</td>\n",
       "      <td>2015-08-01</td>\n",
       "      <td>B</td>\n",
       "      <td>ARIANNA</td>\n",
       "      <td>F</td>\n",
       "      <td>11.0</td>\n",
       "      <td>DUMDEI</td>\n",
       "    </tr>\n",
       "    <tr>\n",
       "      <th>0.000000e+00</th>\n",
       "      <td>2000-10-10 00:00:00</td>\n",
       "      <td>2015-08-01</td>\n",
       "      <td>B</td>\n",
       "      <td>BISHOP</td>\n",
       "      <td>M</td>\n",
       "      <td>9.0</td>\n",
       "      <td>FOLGER</td>\n",
       "    </tr>\n",
       "    <tr>\n",
       "      <th>8.912935e+06</th>\n",
       "      <td>1997-11-21 00:00:00</td>\n",
       "      <td>2015-08-01</td>\n",
       "      <td>H</td>\n",
       "      <td>JOHNATHON</td>\n",
       "      <td>M</td>\n",
       "      <td>12.0</td>\n",
       "      <td>GANGWISH</td>\n",
       "    </tr>\n",
       "    <tr>\n",
       "      <th>9.777171e+06</th>\n",
       "      <td>2010-08-20 00:00:00</td>\n",
       "      <td>2015-08-01</td>\n",
       "      <td>B</td>\n",
       "      <td>MASON</td>\n",
       "      <td>M</td>\n",
       "      <td>NaN</td>\n",
       "      <td>HAILEY</td>\n",
       "    </tr>\n",
       "    <tr>\n",
       "      <th>9.777171e+06</th>\n",
       "      <td>1998-08-20 00:00:00</td>\n",
       "      <td>2015-08-01</td>\n",
       "      <td>B</td>\n",
       "      <td>MASON</td>\n",
       "      <td>M</td>\n",
       "      <td>12.0</td>\n",
       "      <td>HAILEY</td>\n",
       "    </tr>\n",
       "    <tr>\n",
       "      <th>7.869139e+06</th>\n",
       "      <td>2000-10-08 00:00:00</td>\n",
       "      <td>2015-08-01</td>\n",
       "      <td>B</td>\n",
       "      <td>TIFFANY</td>\n",
       "      <td>F</td>\n",
       "      <td>9.0</td>\n",
       "      <td>HEIDEMA</td>\n",
       "    </tr>\n",
       "    <tr>\n",
       "      <th>7.869139e+06</th>\n",
       "      <td>2000-10-08 00:00:00</td>\n",
       "      <td>2015-08-01</td>\n",
       "      <td>D</td>\n",
       "      <td>TIFFANY</td>\n",
       "      <td>F</td>\n",
       "      <td>9.0</td>\n",
       "      <td>HEIDEMA</td>\n",
       "    </tr>\n",
       "    <tr>\n",
       "      <th>1.825529e+06</th>\n",
       "      <td>2009-08-27 00:00:00</td>\n",
       "      <td>2015-09-02</td>\n",
       "      <td>B</td>\n",
       "      <td>LAUREN</td>\n",
       "      <td>F</td>\n",
       "      <td>1.0</td>\n",
       "      <td>HERNANDES</td>\n",
       "    </tr>\n",
       "    <tr>\n",
       "      <th>1.825529e+06</th>\n",
       "      <td>2009-08-27 00:00:00</td>\n",
       "      <td>2015-09-02</td>\n",
       "      <td>B</td>\n",
       "      <td>LAUREN</td>\n",
       "      <td>0</td>\n",
       "      <td>1.0</td>\n",
       "      <td>HERNANDES</td>\n",
       "    </tr>\n",
       "    <tr>\n",
       "      <th>8.170502e+06</th>\n",
       "      <td>2007-07-07 00:00:00</td>\n",
       "      <td>2015-08-01</td>\n",
       "      <td>B</td>\n",
       "      <td>HEAVEN</td>\n",
       "      <td>F</td>\n",
       "      <td>3.0</td>\n",
       "      <td>HOLLANDSWORTH</td>\n",
       "    </tr>\n",
       "    <tr>\n",
       "      <th>8.170502e+06</th>\n",
       "      <td>0</td>\n",
       "      <td>2015-08-01</td>\n",
       "      <td>B</td>\n",
       "      <td>HEAVEN</td>\n",
       "      <td>F</td>\n",
       "      <td>3.0</td>\n",
       "      <td>HOLLANDSWORTH</td>\n",
       "    </tr>\n",
       "    <tr>\n",
       "      <th>3.898246e+06</th>\n",
       "      <td>2010-08-09 00:00:00</td>\n",
       "      <td>2015-08-01</td>\n",
       "      <td>B</td>\n",
       "      <td>SKYLER</td>\n",
       "      <td>M</td>\n",
       "      <td>0.0</td>\n",
       "      <td>LOYACK</td>\n",
       "    </tr>\n",
       "    <tr>\n",
       "      <th>3.898246e+06</th>\n",
       "      <td>2016-08-09 00:00:00</td>\n",
       "      <td>2015-08-01</td>\n",
       "      <td>B</td>\n",
       "      <td>SKYLER</td>\n",
       "      <td>M</td>\n",
       "      <td>0.0</td>\n",
       "      <td>LOYACK</td>\n",
       "    </tr>\n",
       "    <tr>\n",
       "      <th>3.601325e+06</th>\n",
       "      <td>2001-05-03 00:00:00</td>\n",
       "      <td>2015-08-01</td>\n",
       "      <td>B</td>\n",
       "      <td>CHRISTIAN</td>\n",
       "      <td>M</td>\n",
       "      <td>9.0</td>\n",
       "      <td>MINVIELLE</td>\n",
       "    </tr>\n",
       "    <tr>\n",
       "      <th>3.601325e+06</th>\n",
       "      <td>1990-05-03 00:00:00</td>\n",
       "      <td>2015-08-01</td>\n",
       "      <td>B</td>\n",
       "      <td>CHRISTIAN</td>\n",
       "      <td>M</td>\n",
       "      <td>9.0</td>\n",
       "      <td>MINVIELLE</td>\n",
       "    </tr>\n",
       "    <tr>\n",
       "      <th>9.960409e+06</th>\n",
       "      <td>2008-11-14 00:00:00</td>\n",
       "      <td>2015-08-01</td>\n",
       "      <td>B</td>\n",
       "      <td>COLIN</td>\n",
       "      <td>M</td>\n",
       "      <td>1.0</td>\n",
       "      <td>MULVANEY</td>\n",
       "    </tr>\n",
       "    <tr>\n",
       "      <th>9.960409e+06</th>\n",
       "      <td>2008-11-14 00:00:00</td>\n",
       "      <td>2015-08-01</td>\n",
       "      <td>0</td>\n",
       "      <td>COLIN</td>\n",
       "      <td>M</td>\n",
       "      <td>1.0</td>\n",
       "      <td>MULVANEY</td>\n",
       "    </tr>\n",
       "    <tr>\n",
       "      <th>4.004891e+06</th>\n",
       "      <td>2009-02-03 00:00:00</td>\n",
       "      <td>2015-08-01</td>\n",
       "      <td>B</td>\n",
       "      <td>ADALYN</td>\n",
       "      <td>F</td>\n",
       "      <td>1.0</td>\n",
       "      <td>NARAMORE</td>\n",
       "    </tr>\n",
       "    <tr>\n",
       "      <th>4.004891e+06</th>\n",
       "      <td>2009-02-02 00:00:00</td>\n",
       "      <td>2015-08-01</td>\n",
       "      <td>B</td>\n",
       "      <td>ADALYN</td>\n",
       "      <td>F</td>\n",
       "      <td>1.0</td>\n",
       "      <td>NARAMORE</td>\n",
       "    </tr>\n",
       "    <tr>\n",
       "      <th>5.824926e+06</th>\n",
       "      <td>2001-01-24 00:00:00</td>\n",
       "      <td>2015-08-01</td>\n",
       "      <td>B</td>\n",
       "      <td>CAYLEE</td>\n",
       "      <td>F</td>\n",
       "      <td>9.0</td>\n",
       "      <td>PARROT</td>\n",
       "    </tr>\n",
       "    <tr>\n",
       "      <th>5.824926e+06</th>\n",
       "      <td>2001-01-24 00:00:00</td>\n",
       "      <td>2015-08-01</td>\n",
       "      <td>B</td>\n",
       "      <td>CAYLEE</td>\n",
       "      <td>F</td>\n",
       "      <td>9.0</td>\n",
       "      <td>PARROTT</td>\n",
       "    </tr>\n",
       "    <tr>\n",
       "      <th>2.930604e+06</th>\n",
       "      <td>1999-04-10 00:00:00</td>\n",
       "      <td>2015-08-01</td>\n",
       "      <td>B</td>\n",
       "      <td>ANDREW</td>\n",
       "      <td>M</td>\n",
       "      <td>11.0</td>\n",
       "      <td>RIDEAU</td>\n",
       "    </tr>\n",
       "    <tr>\n",
       "      <th>4.903961e+06</th>\n",
       "      <td>1998-07-03 00:00:00</td>\n",
       "      <td>2015-08-01</td>\n",
       "      <td>B</td>\n",
       "      <td>LAWRENCE</td>\n",
       "      <td>M</td>\n",
       "      <td>12.0</td>\n",
       "      <td>SHAUGHNESSY</td>\n",
       "    </tr>\n",
       "    <tr>\n",
       "      <th>4.903961e+06</th>\n",
       "      <td>1998-07-03 00:00:00</td>\n",
       "      <td>2015-08-01</td>\n",
       "      <td>B</td>\n",
       "      <td>LAWRENCE</td>\n",
       "      <td>0</td>\n",
       "      <td>12.0</td>\n",
       "      <td>SHAUGHNESSY</td>\n",
       "    </tr>\n",
       "    <tr>\n",
       "      <th>6.691966e+06</th>\n",
       "      <td>2010-04-19 00:00:00</td>\n",
       "      <td>2015-08-01</td>\n",
       "      <td>B</td>\n",
       "      <td>ROBIN</td>\n",
       "      <td>F</td>\n",
       "      <td>0.0</td>\n",
       "      <td>SUTTEN</td>\n",
       "    </tr>\n",
       "    <tr>\n",
       "      <th>4.116930e+06</th>\n",
       "      <td>2000-11-19 00:00:00</td>\n",
       "      <td>NaT</td>\n",
       "      <td>B</td>\n",
       "      <td>OWEN</td>\n",
       "      <td>M</td>\n",
       "      <td>9.0</td>\n",
       "      <td>SWEARINGEN</td>\n",
       "    </tr>\n",
       "    <tr>\n",
       "      <th>4.116930e+06</th>\n",
       "      <td>2000-11-19 00:00:00</td>\n",
       "      <td>2015-08-01</td>\n",
       "      <td>B</td>\n",
       "      <td>OWEN</td>\n",
       "      <td>M</td>\n",
       "      <td>9.0</td>\n",
       "      <td>SWEARINGEN</td>\n",
       "    </tr>\n",
       "    <tr>\n",
       "      <th>1.646700e+04</th>\n",
       "      <td>2000-09-03 00:00:00</td>\n",
       "      <td>2015-08-18</td>\n",
       "      <td>H</td>\n",
       "      <td>ZACHARY</td>\n",
       "      <td>M</td>\n",
       "      <td>9.0</td>\n",
       "      <td>TONNESEN</td>\n",
       "    </tr>\n",
       "    <tr>\n",
       "      <th>3.800777e+06</th>\n",
       "      <td>2001-07-05 00:00:00</td>\n",
       "      <td>2015-08-10</td>\n",
       "      <td>H</td>\n",
       "      <td>RACHEL</td>\n",
       "      <td>F</td>\n",
       "      <td>9.0</td>\n",
       "      <td>WAWRZYNIAK</td>\n",
       "    </tr>\n",
       "    <tr>\n",
       "      <th>3.800777e+06</th>\n",
       "      <td>2001-07-05 00:00:00</td>\n",
       "      <td>2015-08-01</td>\n",
       "      <td>H</td>\n",
       "      <td>RACHEL</td>\n",
       "      <td>F</td>\n",
       "      <td>9.0</td>\n",
       "      <td>WAWRZYNIAK</td>\n",
       "    </tr>\n",
       "    <tr>\n",
       "      <th>2.946942e+09</th>\n",
       "      <td>2001-08-13 00:00:00</td>\n",
       "      <td>2015-08-01</td>\n",
       "      <td>B</td>\n",
       "      <td>BRODY</td>\n",
       "      <td>M</td>\n",
       "      <td>9.0</td>\n",
       "      <td>WIEDENHEFT</td>\n",
       "    </tr>\n",
       "    <tr>\n",
       "      <th>8.755508e+06</th>\n",
       "      <td>2001-08-12 00:00:00</td>\n",
       "      <td>2015-08-01</td>\n",
       "      <td>B</td>\n",
       "      <td>MARCOS</td>\n",
       "      <td>M</td>\n",
       "      <td>9.0</td>\n",
       "      <td>ZICHERMAN</td>\n",
       "    </tr>\n",
       "    <tr>\n",
       "      <th>8.755508e+06</th>\n",
       "      <td>2001-08-12 00:00:00</td>\n",
       "      <td>2015-08-01</td>\n",
       "      <td>B</td>\n",
       "      <td>MARCOS</td>\n",
       "      <td>M</td>\n",
       "      <td>9.0</td>\n",
       "      <td>ZICKERMAN</td>\n",
       "    </tr>\n",
       "    <tr>\n",
       "      <th>2.563251e+06</th>\n",
       "      <td>1999-01-19 00:00:00</td>\n",
       "      <td>2015-08-01</td>\n",
       "      <td>B</td>\n",
       "      <td>TRENTON</td>\n",
       "      <td>M</td>\n",
       "      <td>11.0</td>\n",
       "      <td>ZILK</td>\n",
       "    </tr>\n",
       "    <tr>\n",
       "      <th>2.563251e+06</th>\n",
       "      <td>1998-01-19 00:00:00</td>\n",
       "      <td>2015-08-01</td>\n",
       "      <td>B</td>\n",
       "      <td>TRENTON</td>\n",
       "      <td>M</td>\n",
       "      <td>12.0</td>\n",
       "      <td>ZILK</td>\n",
       "    </tr>\n",
       "  </tbody>\n",
       "</table>\n",
       "</div>"
      ],
      "text/plain": [
       "                              DOB  EntryDate Ethnicity  FirstName Gender  \\\n",
       "StateID                                                                    \n",
       "6.658813e+06  1998-03-08 00:00:00 2015-08-01         B    BRENNON      M   \n",
       "6.658813e+06                    0 2015-08-01         B    BRENNON      M   \n",
       "5.903576e+06  2002-07-28 00:00:00 2015-08-01         B     BRADEN      M   \n",
       "5.903576e+06  2001-07-28 00:00:00 2015-08-01         B     BRADEN      M   \n",
       "3.416733e+06  1999-08-09 00:00:00 2015-08-01         B       RYAN      M   \n",
       "3.416733e+06                    0 2015-08-01         B       RYAN      M   \n",
       "2.680118e+06  1998-08-13 00:00:00 2015-08-01         B       LEXI      F   \n",
       "2.680118e+06  1998-08-13 00:00:00 2015-08-01         B       LEXY      F   \n",
       "6.301815e+06  1999-01-23 00:00:00 2015-08-01         B      ZIANA      F   \n",
       "6.301815e+06  1999-01-23 00:00:00 2015-08-01         0      ZIANA      F   \n",
       "7.793552e+06  1997-09-19 00:00:00 2015-08-01         B   VONTRELL      M   \n",
       "5.786182e+06  1999-01-03 00:00:00 2015-08-01         B    VANESSA      M   \n",
       "5.786182e+06  1999-01-03 00:00:00 2015-08-01         0    VANESSA      M   \n",
       "8.393341e+06  1998-12-17 00:00:00 2015-08-04         B    ARIANNA      F   \n",
       "8.393341e+06  1998-12-17 00:00:00 2015-08-01         B    ARIANNA      F   \n",
       "0.000000e+00  2000-10-10 00:00:00 2015-08-01         B     BISHOP      M   \n",
       "8.912935e+06  1997-11-21 00:00:00 2015-08-01         H  JOHNATHON      M   \n",
       "9.777171e+06  2010-08-20 00:00:00 2015-08-01         B      MASON      M   \n",
       "9.777171e+06  1998-08-20 00:00:00 2015-08-01         B      MASON      M   \n",
       "7.869139e+06  2000-10-08 00:00:00 2015-08-01         B    TIFFANY      F   \n",
       "7.869139e+06  2000-10-08 00:00:00 2015-08-01         D    TIFFANY      F   \n",
       "1.825529e+06  2009-08-27 00:00:00 2015-09-02         B     LAUREN      F   \n",
       "1.825529e+06  2009-08-27 00:00:00 2015-09-02         B     LAUREN      0   \n",
       "8.170502e+06  2007-07-07 00:00:00 2015-08-01         B     HEAVEN      F   \n",
       "8.170502e+06                    0 2015-08-01         B     HEAVEN      F   \n",
       "3.898246e+06  2010-08-09 00:00:00 2015-08-01         B     SKYLER      M   \n",
       "3.898246e+06  2016-08-09 00:00:00 2015-08-01         B     SKYLER      M   \n",
       "3.601325e+06  2001-05-03 00:00:00 2015-08-01         B  CHRISTIAN      M   \n",
       "3.601325e+06  1990-05-03 00:00:00 2015-08-01         B  CHRISTIAN      M   \n",
       "9.960409e+06  2008-11-14 00:00:00 2015-08-01         B      COLIN      M   \n",
       "9.960409e+06  2008-11-14 00:00:00 2015-08-01         0      COLIN      M   \n",
       "4.004891e+06  2009-02-03 00:00:00 2015-08-01         B     ADALYN      F   \n",
       "4.004891e+06  2009-02-02 00:00:00 2015-08-01         B     ADALYN      F   \n",
       "5.824926e+06  2001-01-24 00:00:00 2015-08-01         B     CAYLEE      F   \n",
       "5.824926e+06  2001-01-24 00:00:00 2015-08-01         B     CAYLEE      F   \n",
       "2.930604e+06  1999-04-10 00:00:00 2015-08-01         B     ANDREW      M   \n",
       "4.903961e+06  1998-07-03 00:00:00 2015-08-01         B   LAWRENCE      M   \n",
       "4.903961e+06  1998-07-03 00:00:00 2015-08-01         B   LAWRENCE      0   \n",
       "6.691966e+06  2010-04-19 00:00:00 2015-08-01         B      ROBIN      F   \n",
       "4.116930e+06  2000-11-19 00:00:00        NaT         B       OWEN      M   \n",
       "4.116930e+06  2000-11-19 00:00:00 2015-08-01         B       OWEN      M   \n",
       "1.646700e+04  2000-09-03 00:00:00 2015-08-18         H    ZACHARY      M   \n",
       "3.800777e+06  2001-07-05 00:00:00 2015-08-10         H     RACHEL      F   \n",
       "3.800777e+06  2001-07-05 00:00:00 2015-08-01         H     RACHEL      F   \n",
       "2.946942e+09  2001-08-13 00:00:00 2015-08-01         B      BRODY      M   \n",
       "8.755508e+06  2001-08-12 00:00:00 2015-08-01         B     MARCOS      M   \n",
       "8.755508e+06  2001-08-12 00:00:00 2015-08-01         B     MARCOS      M   \n",
       "2.563251e+06  1999-01-19 00:00:00 2015-08-01         B    TRENTON      M   \n",
       "2.563251e+06  1998-01-19 00:00:00 2015-08-01         B    TRENTON      M   \n",
       "\n",
       "              Grade       LastName  \n",
       "StateID                             \n",
       "6.658813e+06   12.0         AHNELL  \n",
       "6.658813e+06   12.0         AHNELL  \n",
       "5.903576e+06    8.0          AHUNA  \n",
       "5.903576e+06    9.0          AHUNA  \n",
       "3.416733e+06   11.0          BARRY  \n",
       "3.416733e+06   11.0          BARRY  \n",
       "2.680118e+06   12.0         BEUTEL  \n",
       "2.680118e+06   12.0         BEUTEL  \n",
       "6.301815e+06   11.0       CHRYSTAL  \n",
       "6.301815e+06   11.0       CHRYSTAL  \n",
       "7.793552e+06   12.0         CILLEY  \n",
       "5.786182e+06   11.0         COKINS  \n",
       "5.786182e+06   11.0         COKINS  \n",
       "8.393341e+06   11.0         DUMDEI  \n",
       "8.393341e+06   11.0         DUMDEI  \n",
       "0.000000e+00    9.0         FOLGER  \n",
       "8.912935e+06   12.0       GANGWISH  \n",
       "9.777171e+06    NaN         HAILEY  \n",
       "9.777171e+06   12.0         HAILEY  \n",
       "7.869139e+06    9.0        HEIDEMA  \n",
       "7.869139e+06    9.0        HEIDEMA  \n",
       "1.825529e+06    1.0      HERNANDES  \n",
       "1.825529e+06    1.0      HERNANDES  \n",
       "8.170502e+06    3.0  HOLLANDSWORTH  \n",
       "8.170502e+06    3.0  HOLLANDSWORTH  \n",
       "3.898246e+06    0.0         LOYACK  \n",
       "3.898246e+06    0.0         LOYACK  \n",
       "3.601325e+06    9.0      MINVIELLE  \n",
       "3.601325e+06    9.0      MINVIELLE  \n",
       "9.960409e+06    1.0       MULVANEY  \n",
       "9.960409e+06    1.0       MULVANEY  \n",
       "4.004891e+06    1.0       NARAMORE  \n",
       "4.004891e+06    1.0       NARAMORE  \n",
       "5.824926e+06    9.0         PARROT  \n",
       "5.824926e+06    9.0        PARROTT  \n",
       "2.930604e+06   11.0         RIDEAU  \n",
       "4.903961e+06   12.0    SHAUGHNESSY  \n",
       "4.903961e+06   12.0    SHAUGHNESSY  \n",
       "6.691966e+06    0.0         SUTTEN  \n",
       "4.116930e+06    9.0     SWEARINGEN  \n",
       "4.116930e+06    9.0     SWEARINGEN  \n",
       "1.646700e+04    9.0       TONNESEN  \n",
       "3.800777e+06    9.0     WAWRZYNIAK  \n",
       "3.800777e+06    9.0     WAWRZYNIAK  \n",
       "2.946942e+09    9.0     WIEDENHEFT  \n",
       "8.755508e+06    9.0      ZICHERMAN  \n",
       "8.755508e+06    9.0      ZICKERMAN  \n",
       "2.563251e+06   11.0           ZILK  \n",
       "2.563251e+06   12.0           ZILK  "
      ]
     },
     "execution_count": 50,
     "metadata": {},
     "output_type": "execute_result"
    }
   ],
   "source": [
    "dup_rows"
   ]
  },
  {
   "cell_type": "code",
   "execution_count": 53,
   "metadata": {
    "ExecuteTime": {
     "end_time": "2020-06-03T14:07:21.481815Z",
     "start_time": "2020-06-03T14:07:21.457989Z"
    }
   },
   "outputs": [
    {
     "data": {
      "text/plain": [
       "49"
      ]
     },
     "execution_count": 53,
     "metadata": {},
     "output_type": "execute_result"
    }
   ],
   "source": [
    "len(dup_rows)"
   ]
  },
  {
   "cell_type": "code",
   "execution_count": 51,
   "metadata": {
    "ExecuteTime": {
     "end_time": "2020-06-02T16:24:06.531973Z",
     "start_time": "2020-06-02T16:24:06.501727Z"
    }
   },
   "outputs": [
    {
     "data": {
      "text/plain": [
       "DOB                  object\n",
       "EntryDate    datetime64[ns]\n",
       "Ethnicity            object\n",
       "FirstName            object\n",
       "Gender               object\n",
       "Grade               float64\n",
       "LastName             object\n",
       "dtype: object"
      ]
     },
     "execution_count": 51,
     "metadata": {},
     "output_type": "execute_result"
    }
   ],
   "source": [
    "dup_rows.dtypes"
   ]
  },
  {
   "cell_type": "markdown",
   "metadata": {},
   "source": [
    "Export error report to error_report.csv"
   ]
  },
  {
   "cell_type": "code",
   "execution_count": 52,
   "metadata": {
    "ExecuteTime": {
     "end_time": "2020-06-02T16:25:11.201321Z",
     "start_time": "2020-06-02T16:25:11.148971Z"
    }
   },
   "outputs": [],
   "source": [
    "dup_rows.to_csv('error_report.csv')"
   ]
  }
 ],
 "metadata": {
  "kernelspec": {
   "display_name": "Python 3",
   "language": "python",
   "name": "python3"
  },
  "language_info": {
   "codemirror_mode": {
    "name": "ipython",
    "version": 3
   },
   "file_extension": ".py",
   "mimetype": "text/x-python",
   "name": "python",
   "nbconvert_exporter": "python",
   "pygments_lexer": "ipython3",
   "version": "3.7.3"
  },
  "toc": {
   "base_numbering": 1,
   "nav_menu": {},
   "number_sections": true,
   "sideBar": true,
   "skip_h1_title": false,
   "title_cell": "Table of Contents",
   "title_sidebar": "Contents",
   "toc_cell": false,
   "toc_position": {},
   "toc_section_display": true,
   "toc_window_display": false
  }
 },
 "nbformat": 4,
 "nbformat_minor": 2
}
