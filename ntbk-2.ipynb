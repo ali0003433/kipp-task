{
 "cells": [
  {
   "cell_type": "markdown",
   "metadata": {},
   "source": [
    "# Scenario 2"
   ]
  },
  {
   "cell_type": "markdown",
   "metadata": {},
   "source": [
    "Import libraries"
   ]
  },
  {
   "cell_type": "code",
   "execution_count": 1,
   "metadata": {
    "ExecuteTime": {
     "end_time": "2020-06-03T14:50:45.514891Z",
     "start_time": "2020-06-03T14:50:44.197966Z"
    }
   },
   "outputs": [],
   "source": [
    "import pandas as pd"
   ]
  },
  {
   "cell_type": "markdown",
   "metadata": {},
   "source": [
    "Read in SIS and State data"
   ]
  },
  {
   "cell_type": "code",
   "execution_count": 2,
   "metadata": {
    "ExecuteTime": {
     "end_time": "2020-06-03T14:50:47.662196Z",
     "start_time": "2020-06-03T14:50:45.517640Z"
    }
   },
   "outputs": [],
   "source": [
    "df_sis = pd.read_excel('data.xlsx', sheet_name=1)\n",
    "df_state = pd.read_excel('data.xlsx', sheet_name=2)"
   ]
  },
  {
   "cell_type": "code",
   "execution_count": 3,
   "metadata": {
    "ExecuteTime": {
     "end_time": "2020-06-03T14:50:47.711024Z",
     "start_time": "2020-06-03T14:50:47.666091Z"
    }
   },
   "outputs": [
    {
     "data": {
      "text/html": [
       "<div>\n",
       "<style scoped>\n",
       "    .dataframe tbody tr th:only-of-type {\n",
       "        vertical-align: middle;\n",
       "    }\n",
       "\n",
       "    .dataframe tbody tr th {\n",
       "        vertical-align: top;\n",
       "    }\n",
       "\n",
       "    .dataframe thead th {\n",
       "        text-align: right;\n",
       "    }\n",
       "</style>\n",
       "<table border=\"1\" class=\"dataframe\">\n",
       "  <thead>\n",
       "    <tr style=\"text-align: right;\">\n",
       "      <th></th>\n",
       "      <th>School</th>\n",
       "      <th>StudentID</th>\n",
       "      <th>StateID</th>\n",
       "      <th>FirstName</th>\n",
       "      <th>LastName</th>\n",
       "      <th>Gender</th>\n",
       "      <th>Grade</th>\n",
       "      <th>DOB</th>\n",
       "      <th>Ethnicity</th>\n",
       "      <th>EntryDate</th>\n",
       "      <th>ExitDate</th>\n",
       "    </tr>\n",
       "  </thead>\n",
       "  <tbody>\n",
       "    <tr>\n",
       "      <th>0</th>\n",
       "      <td>OUJH</td>\n",
       "      <td>15524</td>\n",
       "      <td>6137711.0</td>\n",
       "      <td>Milad</td>\n",
       "      <td>Abdulaziz</td>\n",
       "      <td>M</td>\n",
       "      <td>9.0</td>\n",
       "      <td>2000-09-15</td>\n",
       "      <td>B</td>\n",
       "      <td>2015-08-01</td>\n",
       "      <td>2016-05-31</td>\n",
       "    </tr>\n",
       "    <tr>\n",
       "      <th>1</th>\n",
       "      <td>OUJH</td>\n",
       "      <td>92924</td>\n",
       "      <td>7767550.0</td>\n",
       "      <td>Caspian</td>\n",
       "      <td>Amelio</td>\n",
       "      <td>M</td>\n",
       "      <td>9.0</td>\n",
       "      <td>2001-04-18</td>\n",
       "      <td>B</td>\n",
       "      <td>2015-08-01</td>\n",
       "      <td>2016-05-31</td>\n",
       "    </tr>\n",
       "    <tr>\n",
       "      <th>2</th>\n",
       "      <td>OUJH</td>\n",
       "      <td>76151</td>\n",
       "      <td>7020160.0</td>\n",
       "      <td>Melanie</td>\n",
       "      <td>Aragoni</td>\n",
       "      <td>F</td>\n",
       "      <td>9.0</td>\n",
       "      <td>2001-06-25</td>\n",
       "      <td>B</td>\n",
       "      <td>2015-08-01</td>\n",
       "      <td>2016-05-31</td>\n",
       "    </tr>\n",
       "    <tr>\n",
       "      <th>3</th>\n",
       "      <td>OUJH</td>\n",
       "      <td>46166</td>\n",
       "      <td>9149101.0</td>\n",
       "      <td>Lucia</td>\n",
       "      <td>Bingman</td>\n",
       "      <td>F</td>\n",
       "      <td>9.0</td>\n",
       "      <td>2000-09-28</td>\n",
       "      <td>B</td>\n",
       "      <td>2015-08-01</td>\n",
       "      <td>2016-05-31</td>\n",
       "    </tr>\n",
       "    <tr>\n",
       "      <th>4</th>\n",
       "      <td>OUJH</td>\n",
       "      <td>83230</td>\n",
       "      <td>6182781.0</td>\n",
       "      <td>Andrew</td>\n",
       "      <td>Blacio</td>\n",
       "      <td>M</td>\n",
       "      <td>9.0</td>\n",
       "      <td>2001-06-28</td>\n",
       "      <td>B</td>\n",
       "      <td>2015-08-01</td>\n",
       "      <td>2016-05-31</td>\n",
       "    </tr>\n",
       "  </tbody>\n",
       "</table>\n",
       "</div>"
      ],
      "text/plain": [
       "  School  StudentID    StateID FirstName   LastName Gender  Grade        DOB  \\\n",
       "0   OUJH      15524  6137711.0     Milad  Abdulaziz      M    9.0 2000-09-15   \n",
       "1   OUJH      92924  7767550.0   Caspian     Amelio      M    9.0 2001-04-18   \n",
       "2   OUJH      76151  7020160.0   Melanie    Aragoni      F    9.0 2001-06-25   \n",
       "3   OUJH      46166  9149101.0     Lucia    Bingman      F    9.0 2000-09-28   \n",
       "4   OUJH      83230  6182781.0    Andrew     Blacio      M    9.0 2001-06-28   \n",
       "\n",
       "  Ethnicity  EntryDate   ExitDate  \n",
       "0         B 2015-08-01 2016-05-31  \n",
       "1         B 2015-08-01 2016-05-31  \n",
       "2         B 2015-08-01 2016-05-31  \n",
       "3         B 2015-08-01 2016-05-31  \n",
       "4         B 2015-08-01 2016-05-31  "
      ]
     },
     "execution_count": 3,
     "metadata": {},
     "output_type": "execute_result"
    }
   ],
   "source": [
    "df_sis.head()"
   ]
  },
  {
   "cell_type": "code",
   "execution_count": 4,
   "metadata": {
    "ExecuteTime": {
     "end_time": "2020-06-03T14:50:47.724883Z",
     "start_time": "2020-06-03T14:50:47.714424Z"
    }
   },
   "outputs": [
    {
     "data": {
      "text/plain": [
       "2933"
      ]
     },
     "execution_count": 4,
     "metadata": {},
     "output_type": "execute_result"
    }
   ],
   "source": [
    "df_state.head()\n",
    "len(df_state)"
   ]
  },
  {
   "cell_type": "markdown",
   "metadata": {},
   "source": [
    "SIS df with StateID, StudentID, FirstName, LastName"
   ]
  },
  {
   "cell_type": "code",
   "execution_count": 5,
   "metadata": {
    "ExecuteTime": {
     "end_time": "2020-06-03T14:50:47.738110Z",
     "start_time": "2020-06-03T14:50:47.728107Z"
    }
   },
   "outputs": [],
   "source": [
    "df1 = df_sis[['StudentID', 'StateID', 'FirstName', 'LastName']].copy()"
   ]
  },
  {
   "cell_type": "code",
   "execution_count": 6,
   "metadata": {
    "ExecuteTime": {
     "end_time": "2020-06-03T14:50:47.763182Z",
     "start_time": "2020-06-03T14:50:47.743125Z"
    }
   },
   "outputs": [
    {
     "data": {
      "text/html": [
       "<div>\n",
       "<style scoped>\n",
       "    .dataframe tbody tr th:only-of-type {\n",
       "        vertical-align: middle;\n",
       "    }\n",
       "\n",
       "    .dataframe tbody tr th {\n",
       "        vertical-align: top;\n",
       "    }\n",
       "\n",
       "    .dataframe thead th {\n",
       "        text-align: right;\n",
       "    }\n",
       "</style>\n",
       "<table border=\"1\" class=\"dataframe\">\n",
       "  <thead>\n",
       "    <tr style=\"text-align: right;\">\n",
       "      <th></th>\n",
       "      <th>StudentID</th>\n",
       "      <th>StateID</th>\n",
       "      <th>FirstName</th>\n",
       "      <th>LastName</th>\n",
       "    </tr>\n",
       "  </thead>\n",
       "  <tbody>\n",
       "    <tr>\n",
       "      <th>0</th>\n",
       "      <td>15524</td>\n",
       "      <td>6137711.0</td>\n",
       "      <td>Milad</td>\n",
       "      <td>Abdulaziz</td>\n",
       "    </tr>\n",
       "    <tr>\n",
       "      <th>1</th>\n",
       "      <td>92924</td>\n",
       "      <td>7767550.0</td>\n",
       "      <td>Caspian</td>\n",
       "      <td>Amelio</td>\n",
       "    </tr>\n",
       "    <tr>\n",
       "      <th>2</th>\n",
       "      <td>76151</td>\n",
       "      <td>7020160.0</td>\n",
       "      <td>Melanie</td>\n",
       "      <td>Aragoni</td>\n",
       "    </tr>\n",
       "    <tr>\n",
       "      <th>3</th>\n",
       "      <td>46166</td>\n",
       "      <td>9149101.0</td>\n",
       "      <td>Lucia</td>\n",
       "      <td>Bingman</td>\n",
       "    </tr>\n",
       "    <tr>\n",
       "      <th>4</th>\n",
       "      <td>83230</td>\n",
       "      <td>6182781.0</td>\n",
       "      <td>Andrew</td>\n",
       "      <td>Blacio</td>\n",
       "    </tr>\n",
       "  </tbody>\n",
       "</table>\n",
       "</div>"
      ],
      "text/plain": [
       "   StudentID    StateID FirstName   LastName\n",
       "0      15524  6137711.0     Milad  Abdulaziz\n",
       "1      92924  7767550.0   Caspian     Amelio\n",
       "2      76151  7020160.0   Melanie    Aragoni\n",
       "3      46166  9149101.0     Lucia    Bingman\n",
       "4      83230  6182781.0    Andrew     Blacio"
      ]
     },
     "execution_count": 6,
     "metadata": {},
     "output_type": "execute_result"
    }
   ],
   "source": [
    "df1.head()"
   ]
  },
  {
   "cell_type": "markdown",
   "metadata": {},
   "source": [
    "Create df2 from state with StateID, ExitDate, and Classification"
   ]
  },
  {
   "cell_type": "code",
   "execution_count": 7,
   "metadata": {
    "ExecuteTime": {
     "end_time": "2020-06-03T14:50:47.787782Z",
     "start_time": "2020-06-03T14:50:47.769327Z"
    }
   },
   "outputs": [],
   "source": [
    "df2 = df_state[['StateID', 'ExitDate', 'Classification']].copy()"
   ]
  },
  {
   "cell_type": "code",
   "execution_count": 8,
   "metadata": {
    "ExecuteTime": {
     "end_time": "2020-06-03T14:50:47.809338Z",
     "start_time": "2020-06-03T14:50:47.792720Z"
    }
   },
   "outputs": [
    {
     "data": {
      "text/html": [
       "<div>\n",
       "<style scoped>\n",
       "    .dataframe tbody tr th:only-of-type {\n",
       "        vertical-align: middle;\n",
       "    }\n",
       "\n",
       "    .dataframe tbody tr th {\n",
       "        vertical-align: top;\n",
       "    }\n",
       "\n",
       "    .dataframe thead th {\n",
       "        text-align: right;\n",
       "    }\n",
       "</style>\n",
       "<table border=\"1\" class=\"dataframe\">\n",
       "  <thead>\n",
       "    <tr style=\"text-align: right;\">\n",
       "      <th></th>\n",
       "      <th>StateID</th>\n",
       "      <th>ExitDate</th>\n",
       "      <th>Classification</th>\n",
       "    </tr>\n",
       "  </thead>\n",
       "  <tbody>\n",
       "    <tr>\n",
       "      <th>0</th>\n",
       "      <td>6137711</td>\n",
       "      <td>NaT</td>\n",
       "      <td>3</td>\n",
       "    </tr>\n",
       "    <tr>\n",
       "      <th>1</th>\n",
       "      <td>7767550</td>\n",
       "      <td>NaT</td>\n",
       "      <td>4</td>\n",
       "    </tr>\n",
       "    <tr>\n",
       "      <th>2</th>\n",
       "      <td>7020160</td>\n",
       "      <td>NaT</td>\n",
       "      <td>3</td>\n",
       "    </tr>\n",
       "    <tr>\n",
       "      <th>3</th>\n",
       "      <td>9149101</td>\n",
       "      <td>NaT</td>\n",
       "      <td>2</td>\n",
       "    </tr>\n",
       "    <tr>\n",
       "      <th>4</th>\n",
       "      <td>6182781</td>\n",
       "      <td>NaT</td>\n",
       "      <td>2</td>\n",
       "    </tr>\n",
       "  </tbody>\n",
       "</table>\n",
       "</div>"
      ],
      "text/plain": [
       "   StateID ExitDate  Classification\n",
       "0  6137711      NaT               3\n",
       "1  7767550      NaT               4\n",
       "2  7020160      NaT               3\n",
       "3  9149101      NaT               2\n",
       "4  6182781      NaT               2"
      ]
     },
     "execution_count": 8,
     "metadata": {},
     "output_type": "execute_result"
    }
   ],
   "source": [
    "df2.head()"
   ]
  },
  {
   "cell_type": "markdown",
   "metadata": {},
   "source": [
    "Fill null values AKA 'NAT' values with 0 to be able to target them "
   ]
  },
  {
   "cell_type": "code",
   "execution_count": 9,
   "metadata": {
    "ExecuteTime": {
     "end_time": "2020-06-03T14:50:47.831683Z",
     "start_time": "2020-06-03T14:50:47.812294Z"
    }
   },
   "outputs": [],
   "source": [
    "df2.fillna(0, inplace=True)"
   ]
  },
  {
   "cell_type": "markdown",
   "metadata": {},
   "source": [
    "Find the index for rows where ExitDate is 0 AKA null. This means that the student has not exited the school."
   ]
  },
  {
   "cell_type": "code",
   "execution_count": 10,
   "metadata": {
    "ExecuteTime": {
     "end_time": "2020-06-03T14:50:47.846957Z",
     "start_time": "2020-06-03T14:50:47.838440Z"
    }
   },
   "outputs": [],
   "source": [
    "index_null = df2[ df2['ExitDate'] == 0 ].index"
   ]
  },
  {
   "cell_type": "markdown",
   "metadata": {},
   "source": [
    "Drop the rows that correspond to students who are still enrolled in the school since we only want to keep students who have exited"
   ]
  },
  {
   "cell_type": "code",
   "execution_count": 11,
   "metadata": {
    "ExecuteTime": {
     "end_time": "2020-06-03T14:50:47.860809Z",
     "start_time": "2020-06-03T14:50:47.852578Z"
    }
   },
   "outputs": [],
   "source": [
    "df2.drop(index=index_null, inplace= True)"
   ]
  },
  {
   "cell_type": "code",
   "execution_count": 12,
   "metadata": {
    "ExecuteTime": {
     "end_time": "2020-06-03T14:50:47.874675Z",
     "start_time": "2020-06-03T14:50:47.867202Z"
    }
   },
   "outputs": [
    {
     "data": {
      "text/plain": [
       "20"
      ]
     },
     "execution_count": 12,
     "metadata": {},
     "output_type": "execute_result"
    }
   ],
   "source": [
    "len(df2)"
   ]
  },
  {
   "cell_type": "code",
   "execution_count": 13,
   "metadata": {
    "ExecuteTime": {
     "end_time": "2020-06-03T14:50:47.895661Z",
     "start_time": "2020-06-03T14:50:47.879324Z"
    }
   },
   "outputs": [
    {
     "data": {
      "text/html": [
       "<div>\n",
       "<style scoped>\n",
       "    .dataframe tbody tr th:only-of-type {\n",
       "        vertical-align: middle;\n",
       "    }\n",
       "\n",
       "    .dataframe tbody tr th {\n",
       "        vertical-align: top;\n",
       "    }\n",
       "\n",
       "    .dataframe thead th {\n",
       "        text-align: right;\n",
       "    }\n",
       "</style>\n",
       "<table border=\"1\" class=\"dataframe\">\n",
       "  <thead>\n",
       "    <tr style=\"text-align: right;\">\n",
       "      <th></th>\n",
       "      <th>StateID</th>\n",
       "      <th>ExitDate</th>\n",
       "      <th>Classification</th>\n",
       "    </tr>\n",
       "  </thead>\n",
       "  <tbody>\n",
       "    <tr>\n",
       "      <th>28</th>\n",
       "      <td>4864706</td>\n",
       "      <td>2015-11-04 00:00:00</td>\n",
       "      <td>3</td>\n",
       "    </tr>\n",
       "    <tr>\n",
       "      <th>110</th>\n",
       "      <td>2190759</td>\n",
       "      <td>2015-12-01 00:00:00</td>\n",
       "      <td>3</td>\n",
       "    </tr>\n",
       "    <tr>\n",
       "      <th>181</th>\n",
       "      <td>1988573</td>\n",
       "      <td>2016-01-05 00:00:00</td>\n",
       "      <td>3</td>\n",
       "    </tr>\n",
       "    <tr>\n",
       "      <th>247</th>\n",
       "      <td>7592043</td>\n",
       "      <td>2015-09-01 00:00:00</td>\n",
       "      <td>1</td>\n",
       "    </tr>\n",
       "    <tr>\n",
       "      <th>294</th>\n",
       "      <td>3901730</td>\n",
       "      <td>2015-08-04 00:00:00</td>\n",
       "      <td>3</td>\n",
       "    </tr>\n",
       "  </tbody>\n",
       "</table>\n",
       "</div>"
      ],
      "text/plain": [
       "     StateID             ExitDate  Classification\n",
       "28   4864706  2015-11-04 00:00:00               3\n",
       "110  2190759  2015-12-01 00:00:00               3\n",
       "181  1988573  2016-01-05 00:00:00               3\n",
       "247  7592043  2015-09-01 00:00:00               1\n",
       "294  3901730  2015-08-04 00:00:00               3"
      ]
     },
     "execution_count": 13,
     "metadata": {},
     "output_type": "execute_result"
    }
   ],
   "source": [
    "df2.head()"
   ]
  },
  {
   "cell_type": "markdown",
   "metadata": {},
   "source": [
    "Join df2 with df1 on the key StateID with a left join"
   ]
  },
  {
   "cell_type": "code",
   "execution_count": 14,
   "metadata": {
    "ExecuteTime": {
     "end_time": "2020-06-03T14:50:47.914966Z",
     "start_time": "2020-06-03T14:50:47.898550Z"
    }
   },
   "outputs": [],
   "source": [
    "df_exits = pd.merge(df2, df1, on='StateID', how='left')"
   ]
  },
  {
   "cell_type": "code",
   "execution_count": 15,
   "metadata": {
    "ExecuteTime": {
     "end_time": "2020-06-03T14:50:47.928619Z",
     "start_time": "2020-06-03T14:50:47.918712Z"
    }
   },
   "outputs": [
    {
     "data": {
      "text/plain": [
       "20"
      ]
     },
     "execution_count": 15,
     "metadata": {},
     "output_type": "execute_result"
    }
   ],
   "source": [
    "len(df_exits)"
   ]
  },
  {
   "cell_type": "code",
   "execution_count": 16,
   "metadata": {
    "ExecuteTime": {
     "end_time": "2020-06-03T14:50:47.957433Z",
     "start_time": "2020-06-03T14:50:47.932391Z"
    }
   },
   "outputs": [
    {
     "data": {
      "text/html": [
       "<div>\n",
       "<style scoped>\n",
       "    .dataframe tbody tr th:only-of-type {\n",
       "        vertical-align: middle;\n",
       "    }\n",
       "\n",
       "    .dataframe tbody tr th {\n",
       "        vertical-align: top;\n",
       "    }\n",
       "\n",
       "    .dataframe thead th {\n",
       "        text-align: right;\n",
       "    }\n",
       "</style>\n",
       "<table border=\"1\" class=\"dataframe\">\n",
       "  <thead>\n",
       "    <tr style=\"text-align: right;\">\n",
       "      <th></th>\n",
       "      <th>StateID</th>\n",
       "      <th>ExitDate</th>\n",
       "      <th>Classification</th>\n",
       "      <th>StudentID</th>\n",
       "      <th>FirstName</th>\n",
       "      <th>LastName</th>\n",
       "    </tr>\n",
       "  </thead>\n",
       "  <tbody>\n",
       "    <tr>\n",
       "      <th>0</th>\n",
       "      <td>4864706</td>\n",
       "      <td>2015-11-04 00:00:00</td>\n",
       "      <td>3</td>\n",
       "      <td>29973</td>\n",
       "      <td>Sebastian</td>\n",
       "      <td>Derbes</td>\n",
       "    </tr>\n",
       "    <tr>\n",
       "      <th>1</th>\n",
       "      <td>2190759</td>\n",
       "      <td>2015-12-01 00:00:00</td>\n",
       "      <td>3</td>\n",
       "      <td>94599</td>\n",
       "      <td>Edelyn</td>\n",
       "      <td>Plauche</td>\n",
       "    </tr>\n",
       "    <tr>\n",
       "      <th>2</th>\n",
       "      <td>1988573</td>\n",
       "      <td>2016-01-05 00:00:00</td>\n",
       "      <td>3</td>\n",
       "      <td>20769</td>\n",
       "      <td>Analiese</td>\n",
       "      <td>Carvell</td>\n",
       "    </tr>\n",
       "    <tr>\n",
       "      <th>3</th>\n",
       "      <td>7592043</td>\n",
       "      <td>2015-09-01 00:00:00</td>\n",
       "      <td>1</td>\n",
       "      <td>23095</td>\n",
       "      <td>Joseph</td>\n",
       "      <td>Lungsford</td>\n",
       "    </tr>\n",
       "    <tr>\n",
       "      <th>4</th>\n",
       "      <td>3901730</td>\n",
       "      <td>2015-08-04 00:00:00</td>\n",
       "      <td>3</td>\n",
       "      <td>11647</td>\n",
       "      <td>Cadon</td>\n",
       "      <td>Siltman</td>\n",
       "    </tr>\n",
       "    <tr>\n",
       "      <th>5</th>\n",
       "      <td>2891804</td>\n",
       "      <td>2015-10-01 00:00:00</td>\n",
       "      <td>4</td>\n",
       "      <td>87968</td>\n",
       "      <td>Bryssa</td>\n",
       "      <td>Blatnick</td>\n",
       "    </tr>\n",
       "    <tr>\n",
       "      <th>6</th>\n",
       "      <td>5663175</td>\n",
       "      <td>2016-02-02 00:00:00</td>\n",
       "      <td>4</td>\n",
       "      <td>98747</td>\n",
       "      <td>Cayden</td>\n",
       "      <td>Lazenby</td>\n",
       "    </tr>\n",
       "    <tr>\n",
       "      <th>7</th>\n",
       "      <td>4548263</td>\n",
       "      <td>2015-10-22 00:00:00</td>\n",
       "      <td>3</td>\n",
       "      <td>85526</td>\n",
       "      <td>Victoria</td>\n",
       "      <td>Zettlemoyer</td>\n",
       "    </tr>\n",
       "    <tr>\n",
       "      <th>8</th>\n",
       "      <td>5728933</td>\n",
       "      <td>2015-10-04 00:00:00</td>\n",
       "      <td>2</td>\n",
       "      <td>81708</td>\n",
       "      <td>Giovani</td>\n",
       "      <td>Terazes</td>\n",
       "    </tr>\n",
       "    <tr>\n",
       "      <th>9</th>\n",
       "      <td>6570230</td>\n",
       "      <td>2015-11-12 00:00:00</td>\n",
       "      <td>2</td>\n",
       "      <td>54294</td>\n",
       "      <td>Jesus</td>\n",
       "      <td>Lambka</td>\n",
       "    </tr>\n",
       "    <tr>\n",
       "      <th>10</th>\n",
       "      <td>6201999</td>\n",
       "      <td>2015-08-22 00:00:00</td>\n",
       "      <td>3</td>\n",
       "      <td>34572</td>\n",
       "      <td>Mason</td>\n",
       "      <td>Prebish</td>\n",
       "    </tr>\n",
       "    <tr>\n",
       "      <th>11</th>\n",
       "      <td>4828271</td>\n",
       "      <td>2015-11-16 00:00:00</td>\n",
       "      <td>3</td>\n",
       "      <td>74334</td>\n",
       "      <td>Colton</td>\n",
       "      <td>Matkowski</td>\n",
       "    </tr>\n",
       "    <tr>\n",
       "      <th>12</th>\n",
       "      <td>9033510</td>\n",
       "      <td>2015-09-14 00:00:00</td>\n",
       "      <td>4</td>\n",
       "      <td>79229</td>\n",
       "      <td>Abigail</td>\n",
       "      <td>Greeves</td>\n",
       "    </tr>\n",
       "    <tr>\n",
       "      <th>13</th>\n",
       "      <td>7668328</td>\n",
       "      <td>2016-02-02 00:00:00</td>\n",
       "      <td>3</td>\n",
       "      <td>56220</td>\n",
       "      <td>Isaac</td>\n",
       "      <td>Hauenstein</td>\n",
       "    </tr>\n",
       "    <tr>\n",
       "      <th>14</th>\n",
       "      <td>8203239</td>\n",
       "      <td>2015-09-20 00:00:00</td>\n",
       "      <td>1</td>\n",
       "      <td>98671</td>\n",
       "      <td>Fizza</td>\n",
       "      <td>Breu</td>\n",
       "    </tr>\n",
       "    <tr>\n",
       "      <th>15</th>\n",
       "      <td>1007374</td>\n",
       "      <td>2015-10-03 00:00:00</td>\n",
       "      <td>2</td>\n",
       "      <td>70164</td>\n",
       "      <td>Jocelynne</td>\n",
       "      <td>Lagonia</td>\n",
       "    </tr>\n",
       "    <tr>\n",
       "      <th>16</th>\n",
       "      <td>1289371</td>\n",
       "      <td>2015-12-15 00:00:00</td>\n",
       "      <td>1</td>\n",
       "      <td>62259</td>\n",
       "      <td>Ximena</td>\n",
       "      <td>Yonkoske</td>\n",
       "    </tr>\n",
       "    <tr>\n",
       "      <th>17</th>\n",
       "      <td>2975410</td>\n",
       "      <td>2015-11-05 00:00:00</td>\n",
       "      <td>3</td>\n",
       "      <td>72211</td>\n",
       "      <td>Maria</td>\n",
       "      <td>Kasperek</td>\n",
       "    </tr>\n",
       "    <tr>\n",
       "      <th>18</th>\n",
       "      <td>8790082</td>\n",
       "      <td>2016-02-01 00:00:00</td>\n",
       "      <td>4</td>\n",
       "      <td>77147</td>\n",
       "      <td>Laney</td>\n",
       "      <td>Lavallee</td>\n",
       "    </tr>\n",
       "    <tr>\n",
       "      <th>19</th>\n",
       "      <td>7923775</td>\n",
       "      <td>2015-12-14 00:00:00</td>\n",
       "      <td>2</td>\n",
       "      <td>13855</td>\n",
       "      <td>Jose</td>\n",
       "      <td>Pala</td>\n",
       "    </tr>\n",
       "  </tbody>\n",
       "</table>\n",
       "</div>"
      ],
      "text/plain": [
       "    StateID             ExitDate  Classification  StudentID  FirstName  \\\n",
       "0   4864706  2015-11-04 00:00:00               3      29973  Sebastian   \n",
       "1   2190759  2015-12-01 00:00:00               3      94599     Edelyn   \n",
       "2   1988573  2016-01-05 00:00:00               3      20769   Analiese   \n",
       "3   7592043  2015-09-01 00:00:00               1      23095     Joseph   \n",
       "4   3901730  2015-08-04 00:00:00               3      11647      Cadon   \n",
       "5   2891804  2015-10-01 00:00:00               4      87968     Bryssa   \n",
       "6   5663175  2016-02-02 00:00:00               4      98747     Cayden   \n",
       "7   4548263  2015-10-22 00:00:00               3      85526   Victoria   \n",
       "8   5728933  2015-10-04 00:00:00               2      81708    Giovani   \n",
       "9   6570230  2015-11-12 00:00:00               2      54294      Jesus   \n",
       "10  6201999  2015-08-22 00:00:00               3      34572      Mason   \n",
       "11  4828271  2015-11-16 00:00:00               3      74334     Colton   \n",
       "12  9033510  2015-09-14 00:00:00               4      79229    Abigail   \n",
       "13  7668328  2016-02-02 00:00:00               3      56220      Isaac   \n",
       "14  8203239  2015-09-20 00:00:00               1      98671      Fizza   \n",
       "15  1007374  2015-10-03 00:00:00               2      70164  Jocelynne   \n",
       "16  1289371  2015-12-15 00:00:00               1      62259     Ximena   \n",
       "17  2975410  2015-11-05 00:00:00               3      72211      Maria   \n",
       "18  8790082  2016-02-01 00:00:00               4      77147      Laney   \n",
       "19  7923775  2015-12-14 00:00:00               2      13855       Jose   \n",
       "\n",
       "       LastName  \n",
       "0        Derbes  \n",
       "1       Plauche  \n",
       "2       Carvell  \n",
       "3     Lungsford  \n",
       "4       Siltman  \n",
       "5      Blatnick  \n",
       "6       Lazenby  \n",
       "7   Zettlemoyer  \n",
       "8       Terazes  \n",
       "9        Lambka  \n",
       "10      Prebish  \n",
       "11    Matkowski  \n",
       "12      Greeves  \n",
       "13   Hauenstein  \n",
       "14         Breu  \n",
       "15      Lagonia  \n",
       "16     Yonkoske  \n",
       "17     Kasperek  \n",
       "18     Lavallee  \n",
       "19         Pala  "
      ]
     },
     "execution_count": 16,
     "metadata": {},
     "output_type": "execute_result"
    }
   ],
   "source": [
    "df_exits"
   ]
  },
  {
   "cell_type": "code",
   "execution_count": 17,
   "metadata": {
    "ExecuteTime": {
     "end_time": "2020-06-03T14:50:47.976592Z",
     "start_time": "2020-06-03T14:50:47.962913Z"
    }
   },
   "outputs": [],
   "source": [
    "df_exits.to_csv('exit_report.csv')"
   ]
  },
  {
   "cell_type": "code",
   "execution_count": null,
   "metadata": {},
   "outputs": [],
   "source": []
  }
 ],
 "metadata": {
  "kernelspec": {
   "display_name": "Python 3",
   "language": "python",
   "name": "python3"
  },
  "language_info": {
   "codemirror_mode": {
    "name": "ipython",
    "version": 3
   },
   "file_extension": ".py",
   "mimetype": "text/x-python",
   "name": "python",
   "nbconvert_exporter": "python",
   "pygments_lexer": "ipython3",
   "version": "3.7.3"
  },
  "toc": {
   "base_numbering": 1,
   "nav_menu": {},
   "number_sections": true,
   "sideBar": true,
   "skip_h1_title": false,
   "title_cell": "Table of Contents",
   "title_sidebar": "Contents",
   "toc_cell": false,
   "toc_position": {},
   "toc_section_display": true,
   "toc_window_display": false
  }
 },
 "nbformat": 4,
 "nbformat_minor": 2
}
